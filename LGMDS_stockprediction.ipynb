{
  "nbformat": 4,
  "nbformat_minor": 0,
  "metadata": {
    "colab": {
      "provenance": [],
      "authorship_tag": "ABX9TyNOB6p08Afcuc5by9c7Node",
      "include_colab_link": true
    },
    "kernelspec": {
      "name": "python3",
      "display_name": "Python 3"
    },
    "language_info": {
      "name": "python"
    }
  },
  "cells": [
    {
      "cell_type": "markdown",
      "metadata": {
        "id": "view-in-github",
        "colab_type": "text"
      },
      "source": [
        "<a href=\"https://colab.research.google.com/github/BANKUTHANMAI/LGMDS-Stock-Market-prediction/blob/main/LGMDS_stockprediction.ipynb\" target=\"_parent\"><img src=\"https://colab.research.google.com/assets/colab-badge.svg\" alt=\"Open In Colab\"/></a>"
      ]
    },
    {
      "cell_type": "code",
      "execution_count": 1,
      "metadata": {
        "id": "If1jvYKeZ_RC"
      },
      "outputs": [],
      "source": [
        "import numpy as np\n",
        "import pandas as pd\n",
        "import seaborn as sns\n",
        "import matplotlib.pyplot as plt\n"
      ]
    },
    {
      "cell_type": "code",
      "source": [
        "dataframe=pd.read_csv(\"/content/stock.txt\")"
      ],
      "metadata": {
        "id": "tjh8a_cVaW2l"
      },
      "execution_count": 2,
      "outputs": []
    },
    {
      "cell_type": "code",
      "source": [
        "dataframe.describe()"
      ],
      "metadata": {
        "colab": {
          "base_uri": "https://localhost:8080/",
          "height": 300
        },
        "id": "ru4TDk28aW5U",
        "outputId": "c2e6c670-457a-4518-f311-c16cd8964b47"
      },
      "execution_count": 3,
      "outputs": [
        {
          "output_type": "execute_result",
          "data": {
            "text/plain": [
              "              Open         High          Low         Last       Close  \\\n",
              "count  2035.000000  2035.000000  2035.000000  2035.000000  2035.00000   \n",
              "mean    149.713735   151.992826   147.293931   149.474251   149.45027   \n",
              "std      48.664509    49.413109    47.931958    48.732570    48.71204   \n",
              "min      81.100000    82.800000    80.000000    81.000000    80.95000   \n",
              "25%     120.025000   122.100000   118.300000   120.075000   120.05000   \n",
              "50%     141.500000   143.400000   139.600000   141.100000   141.25000   \n",
              "75%     157.175000   159.400000   155.150000   156.925000   156.90000   \n",
              "max     327.700000   328.750000   321.650000   325.950000   325.75000   \n",
              "\n",
              "       Total Trade Quantity  Turnover (Lacs)  \n",
              "count          2.035000e+03      2035.000000  \n",
              "mean           2.335681e+06      3899.980565  \n",
              "std            2.091778e+06      4570.767877  \n",
              "min            3.961000e+04        37.040000  \n",
              "25%            1.146444e+06      1427.460000  \n",
              "50%            1.783456e+06      2512.030000  \n",
              "75%            2.813594e+06      4539.015000  \n",
              "max            2.919102e+07     55755.080000  "
            ],
            "text/html": [
              "\n",
              "  <div id=\"df-0d908303-1ec2-4e8e-b15a-d493ed939164\">\n",
              "    <div class=\"colab-df-container\">\n",
              "      <div>\n",
              "<style scoped>\n",
              "    .dataframe tbody tr th:only-of-type {\n",
              "        vertical-align: middle;\n",
              "    }\n",
              "\n",
              "    .dataframe tbody tr th {\n",
              "        vertical-align: top;\n",
              "    }\n",
              "\n",
              "    .dataframe thead th {\n",
              "        text-align: right;\n",
              "    }\n",
              "</style>\n",
              "<table border=\"1\" class=\"dataframe\">\n",
              "  <thead>\n",
              "    <tr style=\"text-align: right;\">\n",
              "      <th></th>\n",
              "      <th>Open</th>\n",
              "      <th>High</th>\n",
              "      <th>Low</th>\n",
              "      <th>Last</th>\n",
              "      <th>Close</th>\n",
              "      <th>Total Trade Quantity</th>\n",
              "      <th>Turnover (Lacs)</th>\n",
              "    </tr>\n",
              "  </thead>\n",
              "  <tbody>\n",
              "    <tr>\n",
              "      <th>count</th>\n",
              "      <td>2035.000000</td>\n",
              "      <td>2035.000000</td>\n",
              "      <td>2035.000000</td>\n",
              "      <td>2035.000000</td>\n",
              "      <td>2035.00000</td>\n",
              "      <td>2.035000e+03</td>\n",
              "      <td>2035.000000</td>\n",
              "    </tr>\n",
              "    <tr>\n",
              "      <th>mean</th>\n",
              "      <td>149.713735</td>\n",
              "      <td>151.992826</td>\n",
              "      <td>147.293931</td>\n",
              "      <td>149.474251</td>\n",
              "      <td>149.45027</td>\n",
              "      <td>2.335681e+06</td>\n",
              "      <td>3899.980565</td>\n",
              "    </tr>\n",
              "    <tr>\n",
              "      <th>std</th>\n",
              "      <td>48.664509</td>\n",
              "      <td>49.413109</td>\n",
              "      <td>47.931958</td>\n",
              "      <td>48.732570</td>\n",
              "      <td>48.71204</td>\n",
              "      <td>2.091778e+06</td>\n",
              "      <td>4570.767877</td>\n",
              "    </tr>\n",
              "    <tr>\n",
              "      <th>min</th>\n",
              "      <td>81.100000</td>\n",
              "      <td>82.800000</td>\n",
              "      <td>80.000000</td>\n",
              "      <td>81.000000</td>\n",
              "      <td>80.95000</td>\n",
              "      <td>3.961000e+04</td>\n",
              "      <td>37.040000</td>\n",
              "    </tr>\n",
              "    <tr>\n",
              "      <th>25%</th>\n",
              "      <td>120.025000</td>\n",
              "      <td>122.100000</td>\n",
              "      <td>118.300000</td>\n",
              "      <td>120.075000</td>\n",
              "      <td>120.05000</td>\n",
              "      <td>1.146444e+06</td>\n",
              "      <td>1427.460000</td>\n",
              "    </tr>\n",
              "    <tr>\n",
              "      <th>50%</th>\n",
              "      <td>141.500000</td>\n",
              "      <td>143.400000</td>\n",
              "      <td>139.600000</td>\n",
              "      <td>141.100000</td>\n",
              "      <td>141.25000</td>\n",
              "      <td>1.783456e+06</td>\n",
              "      <td>2512.030000</td>\n",
              "    </tr>\n",
              "    <tr>\n",
              "      <th>75%</th>\n",
              "      <td>157.175000</td>\n",
              "      <td>159.400000</td>\n",
              "      <td>155.150000</td>\n",
              "      <td>156.925000</td>\n",
              "      <td>156.90000</td>\n",
              "      <td>2.813594e+06</td>\n",
              "      <td>4539.015000</td>\n",
              "    </tr>\n",
              "    <tr>\n",
              "      <th>max</th>\n",
              "      <td>327.700000</td>\n",
              "      <td>328.750000</td>\n",
              "      <td>321.650000</td>\n",
              "      <td>325.950000</td>\n",
              "      <td>325.75000</td>\n",
              "      <td>2.919102e+07</td>\n",
              "      <td>55755.080000</td>\n",
              "    </tr>\n",
              "  </tbody>\n",
              "</table>\n",
              "</div>\n",
              "      <button class=\"colab-df-convert\" onclick=\"convertToInteractive('df-0d908303-1ec2-4e8e-b15a-d493ed939164')\"\n",
              "              title=\"Convert this dataframe to an interactive table.\"\n",
              "              style=\"display:none;\">\n",
              "        \n",
              "  <svg xmlns=\"http://www.w3.org/2000/svg\" height=\"24px\"viewBox=\"0 0 24 24\"\n",
              "       width=\"24px\">\n",
              "    <path d=\"M0 0h24v24H0V0z\" fill=\"none\"/>\n",
              "    <path d=\"M18.56 5.44l.94 2.06.94-2.06 2.06-.94-2.06-.94-.94-2.06-.94 2.06-2.06.94zm-11 1L8.5 8.5l.94-2.06 2.06-.94-2.06-.94L8.5 2.5l-.94 2.06-2.06.94zm10 10l.94 2.06.94-2.06 2.06-.94-2.06-.94-.94-2.06-.94 2.06-2.06.94z\"/><path d=\"M17.41 7.96l-1.37-1.37c-.4-.4-.92-.59-1.43-.59-.52 0-1.04.2-1.43.59L10.3 9.45l-7.72 7.72c-.78.78-.78 2.05 0 2.83L4 21.41c.39.39.9.59 1.41.59.51 0 1.02-.2 1.41-.59l7.78-7.78 2.81-2.81c.8-.78.8-2.07 0-2.86zM5.41 20L4 18.59l7.72-7.72 1.47 1.35L5.41 20z\"/>\n",
              "  </svg>\n",
              "      </button>\n",
              "      \n",
              "  <style>\n",
              "    .colab-df-container {\n",
              "      display:flex;\n",
              "      flex-wrap:wrap;\n",
              "      gap: 12px;\n",
              "    }\n",
              "\n",
              "    .colab-df-convert {\n",
              "      background-color: #E8F0FE;\n",
              "      border: none;\n",
              "      border-radius: 50%;\n",
              "      cursor: pointer;\n",
              "      display: none;\n",
              "      fill: #1967D2;\n",
              "      height: 32px;\n",
              "      padding: 0 0 0 0;\n",
              "      width: 32px;\n",
              "    }\n",
              "\n",
              "    .colab-df-convert:hover {\n",
              "      background-color: #E2EBFA;\n",
              "      box-shadow: 0px 1px 2px rgba(60, 64, 67, 0.3), 0px 1px 3px 1px rgba(60, 64, 67, 0.15);\n",
              "      fill: #174EA6;\n",
              "    }\n",
              "\n",
              "    [theme=dark] .colab-df-convert {\n",
              "      background-color: #3B4455;\n",
              "      fill: #D2E3FC;\n",
              "    }\n",
              "\n",
              "    [theme=dark] .colab-df-convert:hover {\n",
              "      background-color: #434B5C;\n",
              "      box-shadow: 0px 1px 3px 1px rgba(0, 0, 0, 0.15);\n",
              "      filter: drop-shadow(0px 1px 2px rgba(0, 0, 0, 0.3));\n",
              "      fill: #FFFFFF;\n",
              "    }\n",
              "  </style>\n",
              "\n",
              "      <script>\n",
              "        const buttonEl =\n",
              "          document.querySelector('#df-0d908303-1ec2-4e8e-b15a-d493ed939164 button.colab-df-convert');\n",
              "        buttonEl.style.display =\n",
              "          google.colab.kernel.accessAllowed ? 'block' : 'none';\n",
              "\n",
              "        async function convertToInteractive(key) {\n",
              "          const element = document.querySelector('#df-0d908303-1ec2-4e8e-b15a-d493ed939164');\n",
              "          const dataTable =\n",
              "            await google.colab.kernel.invokeFunction('convertToInteractive',\n",
              "                                                     [key], {});\n",
              "          if (!dataTable) return;\n",
              "\n",
              "          const docLinkHtml = 'Like what you see? Visit the ' +\n",
              "            '<a target=\"_blank\" href=https://colab.research.google.com/notebooks/data_table.ipynb>data table notebook</a>'\n",
              "            + ' to learn more about interactive tables.';\n",
              "          element.innerHTML = '';\n",
              "          dataTable['output_type'] = 'display_data';\n",
              "          await google.colab.output.renderOutput(dataTable, element);\n",
              "          const docLink = document.createElement('div');\n",
              "          docLink.innerHTML = docLinkHtml;\n",
              "          element.appendChild(docLink);\n",
              "        }\n",
              "      </script>\n",
              "    </div>\n",
              "  </div>\n",
              "  "
            ]
          },
          "metadata": {},
          "execution_count": 3
        }
      ]
    },
    {
      "cell_type": "code",
      "source": [
        "dataframe.head"
      ],
      "metadata": {
        "colab": {
          "base_uri": "https://localhost:8080/"
        },
        "id": "gQLBqzvCaW8u",
        "outputId": "aa635394-e8fe-46f5-b74e-024d527ad3d5"
      },
      "execution_count": 4,
      "outputs": [
        {
          "output_type": "execute_result",
          "data": {
            "text/plain": [
              "<bound method NDFrame.head of             Date    Open    High     Low    Last   Close  \\\n",
              "0     2018-09-28  234.05  235.95  230.20  233.50  233.75   \n",
              "1     2018-09-27  234.55  236.80  231.10  233.80  233.25   \n",
              "2     2018-09-26  240.00  240.00  232.50  235.00  234.25   \n",
              "3     2018-09-25  233.30  236.75  232.00  236.25  236.10   \n",
              "4     2018-09-24  233.55  239.20  230.75  234.00  233.30   \n",
              "...          ...     ...     ...     ...     ...     ...   \n",
              "2030  2010-07-27  117.60  119.50  112.00  118.80  118.65   \n",
              "2031  2010-07-26  120.10  121.00  117.10  117.10  117.60   \n",
              "2032  2010-07-23  121.80  121.95  120.25  120.35  120.65   \n",
              "2033  2010-07-22  120.30  122.00  120.25  120.75  120.90   \n",
              "2034  2010-07-21  122.10  123.00  121.05  121.10  121.55   \n",
              "\n",
              "      Total Trade Quantity  Turnover (Lacs)  \n",
              "0                  3069914          7162.35  \n",
              "1                  5082859         11859.95  \n",
              "2                  2240909          5248.60  \n",
              "3                  2349368          5503.90  \n",
              "4                  3423509          7999.55  \n",
              "...                    ...              ...  \n",
              "2030                586100           694.98  \n",
              "2031                658440           780.01  \n",
              "2032                281312           340.31  \n",
              "2033                293312           355.17  \n",
              "2034                658666           803.56  \n",
              "\n",
              "[2035 rows x 8 columns]>"
            ]
          },
          "metadata": {},
          "execution_count": 4
        }
      ]
    },
    {
      "cell_type": "code",
      "source": [
        "dataframe.tail"
      ],
      "metadata": {
        "colab": {
          "base_uri": "https://localhost:8080/"
        },
        "id": "Pt2LF7bca3mx",
        "outputId": "8ac00183-9cd2-4c65-f536-8a7850f22d13"
      },
      "execution_count": 5,
      "outputs": [
        {
          "output_type": "execute_result",
          "data": {
            "text/plain": [
              "<bound method NDFrame.tail of             Date    Open    High     Low    Last   Close  \\\n",
              "0     2018-09-28  234.05  235.95  230.20  233.50  233.75   \n",
              "1     2018-09-27  234.55  236.80  231.10  233.80  233.25   \n",
              "2     2018-09-26  240.00  240.00  232.50  235.00  234.25   \n",
              "3     2018-09-25  233.30  236.75  232.00  236.25  236.10   \n",
              "4     2018-09-24  233.55  239.20  230.75  234.00  233.30   \n",
              "...          ...     ...     ...     ...     ...     ...   \n",
              "2030  2010-07-27  117.60  119.50  112.00  118.80  118.65   \n",
              "2031  2010-07-26  120.10  121.00  117.10  117.10  117.60   \n",
              "2032  2010-07-23  121.80  121.95  120.25  120.35  120.65   \n",
              "2033  2010-07-22  120.30  122.00  120.25  120.75  120.90   \n",
              "2034  2010-07-21  122.10  123.00  121.05  121.10  121.55   \n",
              "\n",
              "      Total Trade Quantity  Turnover (Lacs)  \n",
              "0                  3069914          7162.35  \n",
              "1                  5082859         11859.95  \n",
              "2                  2240909          5248.60  \n",
              "3                  2349368          5503.90  \n",
              "4                  3423509          7999.55  \n",
              "...                    ...              ...  \n",
              "2030                586100           694.98  \n",
              "2031                658440           780.01  \n",
              "2032                281312           340.31  \n",
              "2033                293312           355.17  \n",
              "2034                658666           803.56  \n",
              "\n",
              "[2035 rows x 8 columns]>"
            ]
          },
          "metadata": {},
          "execution_count": 5
        }
      ]
    },
    {
      "cell_type": "code",
      "source": [
        "dataframe.shape"
      ],
      "metadata": {
        "colab": {
          "base_uri": "https://localhost:8080/"
        },
        "id": "BrcPXFMoa3qL",
        "outputId": "59774b43-d2f4-4a7f-8105-cf8384cd4503"
      },
      "execution_count": 6,
      "outputs": [
        {
          "output_type": "execute_result",
          "data": {
            "text/plain": [
              "(2035, 8)"
            ]
          },
          "metadata": {},
          "execution_count": 6
        }
      ]
    },
    {
      "cell_type": "code",
      "source": [
        "duplicate = dataframe[dataframe.duplicated()]\n",
        "print(duplicate)"
      ],
      "metadata": {
        "colab": {
          "base_uri": "https://localhost:8080/"
        },
        "id": "S9FQWuKvbEVo",
        "outputId": "e0951278-4571-4c56-9be3-8fdc57894953"
      },
      "execution_count": 7,
      "outputs": [
        {
          "output_type": "stream",
          "name": "stdout",
          "text": [
            "Empty DataFrame\n",
            "Columns: [Date, Open, High, Low, Last, Close, Total Trade Quantity, Turnover (Lacs)]\n",
            "Index: []\n"
          ]
        }
      ]
    },
    {
      "cell_type": "code",
      "source": [
        "(dataframe.isna().sum())"
      ],
      "metadata": {
        "colab": {
          "base_uri": "https://localhost:8080/"
        },
        "id": "IDhDySRYbEZi",
        "outputId": "f1c3b4b5-b7cd-4e24-cbb1-7d9c71063a05"
      },
      "execution_count": 8,
      "outputs": [
        {
          "output_type": "execute_result",
          "data": {
            "text/plain": [
              "Date                    0\n",
              "Open                    0\n",
              "High                    0\n",
              "Low                     0\n",
              "Last                    0\n",
              "Close                   0\n",
              "Total Trade Quantity    0\n",
              "Turnover (Lacs)         0\n",
              "dtype: int64"
            ]
          },
          "metadata": {},
          "execution_count": 8
        }
      ]
    },
    {
      "cell_type": "code",
      "source": [
        "dataframe.hist(figsize=(8,8))\n",
        "plt.show()"
      ],
      "metadata": {
        "colab": {
          "base_uri": "https://localhost:8080/",
          "height": 499
        },
        "id": "Gs3fgv8-bEdN",
        "outputId": "8fbc9a2f-5e07-48b0-b3b3-3ac5260acfb6"
      },
      "execution_count": 9,
      "outputs": [
        {
          "output_type": "display_data",
          "data": {
            "text/plain": [
              "<Figure size 576x576 with 9 Axes>"
            ],
            "image/png": "[encoded data removed]"
          },
          "metadata": {
            "needs_background": "light"
          }
        }
      ]
    },
    {
      "cell_type": "code",
      "source": [
        "plt.figure(figsize=(6,6))\n",
        "sns.heatmap(dataframe.corr(), annot=True, cmap='cubehelix_r')\n",
        "plt.show()"
      ],
      "metadata": {
        "colab": {
          "base_uri": "https://localhost:8080/",
          "height": 468
        },
        "id": "A2EIafEkbTAA",
        "outputId": "9a6fd986-4907-417c-a913-03473cbac592"
      },
      "execution_count": 10,
      "outputs": [
        {
          "output_type": "display_data",
          "data": {
            "text/plain": [
              "<Figure size 432x432 with 2 Axes>"
            ],
            "image/png": "[encoded data removed]"
          },
          "metadata": {
            "needs_background": "light"
          }
        }
      ]
    },
    {
      "cell_type": "code",
      "source": [
        "dataframe_high=dataframe.reset_index()['High']\n",
        "plt.plot(dataframe_high)"
      ],
      "metadata": {
        "colab": {
          "base_uri": "https://localhost:8080/",
          "height": 283
        },
        "id": "OAb8lg-xOpqF",
        "outputId": "a77a9bb0-78d6-45a3-f723-1f50391e4b07"
      },
      "execution_count": 11,
      "outputs": [
        {
          "output_type": "execute_result",
          "data": {
            "text/plain": [
              "[<matplotlib.lines.Line2D at 0x7f2e38f5bf70>]"
            ]
          },
          "metadata": {},
          "execution_count": 11
        },
        {
          "output_type": "display_data",
          "data": {
            "text/plain": [
              "<Figure size 432x288 with 1 Axes>"
            ],
            "image/png": "[encoded data removed]"
          },
          "metadata": {
            "needs_background": "light"
          }
        }
      ]
    },
    {
      "cell_type": "code",
      "source": [
        "from sklearn.preprocessing import MinMaxScaler\n",
        "scaler = MinMaxScaler(feature_range = (0,1))\n",
        "dataframe_high = scaler.fit_transform(np.array(dataframe_high).reshape(-1,1))"
      ],
      "metadata": {
        "id": "l3LQ5TiIbyoK"
      },
      "execution_count": 12,
      "outputs": []
    },
    {
      "cell_type": "code",
      "source": [
        "training_size = int(len(dataframe_high) * 0.75)\n",
        "test_size = len(dataframe_high) - training_size\n",
        "train_data,test_data = dataframe_high[0:training_size,:], dataframe_high[training_size:len(dataframe_high),:1]"
      ],
      "metadata": {
        "id": "lwOA-_h9bysi"
      },
      "execution_count": 13,
      "outputs": []
    },
    {
      "cell_type": "code",
      "source": [
        "def create_dataset(dataset, time_step=1):\n",
        "    dataX, dataY = [], []\n",
        "    for i in range(len(dataset)-time_step-1):\n",
        "        a = dataset[i:(i+time_step), 0]  \n",
        "        dataX.append(a)\n",
        "        dataY.append(dataset[i + time_step, 0])\n",
        "    return np.array(dataX), np.array(dataY)"
      ],
      "metadata": {
        "id": "g9qMLRInPGU4"
      },
      "execution_count": 14,
      "outputs": []
    },
    {
      "cell_type": "code",
      "source": [
        "time_step = 100\n",
        "x_train, y_train = create_dataset(train_data, time_step)\n",
        "x_test, y_test = create_dataset(test_data, time_step)"
      ],
      "metadata": {
        "id": "94WNhvUBPGX-"
      },
      "execution_count": 15,
      "outputs": []
    },
    {
      "cell_type": "code",
      "source": [
        "x_train = x_train.reshape(x_train.shape[0], x_train.shape[1], 1)\n",
        "x_test = x_test.reshape(x_test.shape[0], x_test.shape[1], 1)"
      ],
      "metadata": {
        "id": "S-bQVEmUPGcE"
      },
      "execution_count": 16,
      "outputs": []
    },
    {
      "cell_type": "code",
      "source": [
        "import tensorflow as tf\n",
        "from tensorflow.python.keras.models import Sequential\n",
        "from tensorflow.python.keras.layers import Dense\n",
        "from tensorflow.python.keras.layers import LSTM"
      ],
      "metadata": {
        "id": "1OOGEvyrPGfl"
      },
      "execution_count": 17,
      "outputs": []
    },
    {
      "cell_type": "code",
      "source": [
        "model = Sequential()\n",
        "model.add(LSTM(50, return_sequences = True, input_shape = (100,1)))\n",
        "model.add(LSTM(50, return_sequences = True))\n",
        "model.add(LSTM(50))\n",
        "model.add(Dense(1))\n",
        "model.compile(loss = 'mean_squared_error', optimizer = 'adam')"
      ],
      "metadata": {
        "id": "KuEa9OnxPdAf"
      },
      "execution_count": 18,
      "outputs": []
    },
    {
      "cell_type": "code",
      "source": [
        "model.fit(x_train, y_train, validation_data = (x_test, y_test), epochs = 150, batch_size = 64, verbose = 1)"
      ],
      "metadata": {
        "colab": {
          "base_uri": "https://localhost:8080/"
        },
        "id": "rWJJ5bQ2PdEc",
        "outputId": "8e188517-f44c-4f42-e939-37bdda4d4038"
      },
      "execution_count": 19,
      "outputs": [
        {
          "output_type": "stream",
          "name": "stdout",
          "text": [
            "Epoch 1/150\n",
            "23/23 [==============================] - 15s 341ms/step - loss: 0.0222 - val_loss: 0.0085\n",
            "Epoch 2/150\n",
            "23/23 [==============================] - 7s 284ms/step - loss: 0.0021 - val_loss: 8.6718e-04\n",
            "Epoch 3/150\n",
            "23/23 [==============================] - 7s 318ms/step - loss: 0.0015 - val_loss: 0.0016\n",
            "Epoch 4/150\n",
            "23/23 [==============================] - 7s 284ms/step - loss: 0.0014 - val_loss: 0.0014\n",
            "Epoch 5/150\n",
            "23/23 [==============================] - 7s 315ms/step - loss: 0.0013 - val_loss: 0.0012\n",
            "Epoch 6/150\n",
            "23/23 [==============================] - 7s 316ms/step - loss: 0.0012 - val_loss: 0.0015\n",
            "Epoch 7/150\n",
            "23/23 [==============================] - 6s 283ms/step - loss: 0.0012 - val_loss: 0.0014\n",
            "Epoch 8/150\n",
            "23/23 [==============================] - 7s 319ms/step - loss: 0.0011 - val_loss: 0.0013\n",
            "Epoch 9/150\n",
            "23/23 [==============================] - 6s 282ms/step - loss: 0.0010 - val_loss: 8.6530e-04\n",
            "Epoch 10/150\n",
            "23/23 [==============================] - 7s 315ms/step - loss: 0.0010 - val_loss: 9.9411e-04\n",
            "Epoch 11/150\n",
            "23/23 [==============================] - 7s 295ms/step - loss: 9.4228e-04 - val_loss: 9.1325e-04\n",
            "Epoch 12/150\n",
            "23/23 [==============================] - 7s 292ms/step - loss: 0.0011 - val_loss: 8.9826e-04\n",
            "Epoch 13/150\n",
            "23/23 [==============================] - 7s 315ms/step - loss: 9.4738e-04 - val_loss: 8.2786e-04\n",
            "Epoch 14/150\n",
            "23/23 [==============================] - 8s 373ms/step - loss: 8.7819e-04 - val_loss: 8.1567e-04\n",
            "Epoch 15/150\n",
            "23/23 [==============================] - 7s 317ms/step - loss: 8.6033e-04 - val_loss: 8.1294e-04\n",
            "Epoch 16/150\n",
            "23/23 [==============================] - 7s 318ms/step - loss: 7.8042e-04 - val_loss: 6.3039e-04\n",
            "Epoch 17/150\n",
            "23/23 [==============================] - 7s 287ms/step - loss: 7.6597e-04 - val_loss: 6.4964e-04\n",
            "Epoch 18/150\n",
            "23/23 [==============================] - 7s 319ms/step - loss: 7.1343e-04 - val_loss: 0.0010\n",
            "Epoch 19/150\n",
            "23/23 [==============================] - 6s 282ms/step - loss: 7.3639e-04 - val_loss: 6.2328e-04\n",
            "Epoch 20/150\n",
            "23/23 [==============================] - 7s 316ms/step - loss: 7.6600e-04 - val_loss: 8.7835e-04\n",
            "Epoch 21/150\n",
            "23/23 [==============================] - 7s 303ms/step - loss: 6.9040e-04 - val_loss: 7.7896e-04\n",
            "Epoch 22/150\n",
            "23/23 [==============================] - 7s 285ms/step - loss: 6.6958e-04 - val_loss: 6.7328e-04\n",
            "Epoch 23/150\n",
            "23/23 [==============================] - 7s 314ms/step - loss: 6.2386e-04 - val_loss: 7.1888e-04\n",
            "Epoch 24/150\n",
            "23/23 [==============================] - 6s 281ms/step - loss: 6.1279e-04 - val_loss: 6.3988e-04\n",
            "Epoch 25/150\n",
            "23/23 [==============================] - 7s 317ms/step - loss: 6.3485e-04 - val_loss: 5.4955e-04\n",
            "Epoch 26/150\n",
            "23/23 [==============================] - 7s 285ms/step - loss: 6.0089e-04 - val_loss: 7.4762e-04\n",
            "Epoch 27/150\n",
            "23/23 [==============================] - 7s 312ms/step - loss: 5.5991e-04 - val_loss: 5.6984e-04\n",
            "Epoch 28/150\n",
            "23/23 [==============================] - 7s 317ms/step - loss: 5.7011e-04 - val_loss: 8.0092e-04\n",
            "Epoch 29/150\n",
            "23/23 [==============================] - 6s 282ms/step - loss: 5.4616e-04 - val_loss: 6.5165e-04\n",
            "Epoch 30/150\n",
            "23/23 [==============================] - 7s 318ms/step - loss: 5.6259e-04 - val_loss: 7.0988e-04\n",
            "Epoch 31/150\n",
            "23/23 [==============================] - 6s 281ms/step - loss: 5.5364e-04 - val_loss: 7.1479e-04\n",
            "Epoch 32/150\n",
            "23/23 [==============================] - 7s 315ms/step - loss: 5.3838e-04 - val_loss: 4.5840e-04\n",
            "Epoch 33/150\n",
            "23/23 [==============================] - 7s 297ms/step - loss: 5.0072e-04 - val_loss: 6.3810e-04\n",
            "Epoch 34/150\n",
            "23/23 [==============================] - 7s 287ms/step - loss: 5.6718e-04 - val_loss: 4.7818e-04\n",
            "Epoch 35/150\n",
            "23/23 [==============================] - 7s 317ms/step - loss: 5.1857e-04 - val_loss: 5.7972e-04\n",
            "Epoch 36/150\n",
            "23/23 [==============================] - 6s 279ms/step - loss: 5.0223e-04 - val_loss: 9.3930e-04\n",
            "Epoch 37/150\n",
            "23/23 [==============================] - 7s 315ms/step - loss: 5.2909e-04 - val_loss: 5.9688e-04\n",
            "Epoch 38/150\n",
            "23/23 [==============================] - 6s 281ms/step - loss: 4.8446e-04 - val_loss: 8.0872e-04\n",
            "Epoch 39/150\n",
            "23/23 [==============================] - 7s 316ms/step - loss: 4.5927e-04 - val_loss: 6.3719e-04\n",
            "Epoch 40/150\n",
            "23/23 [==============================] - 7s 317ms/step - loss: 4.2672e-04 - val_loss: 3.9324e-04\n",
            "Epoch 41/150\n",
            "23/23 [==============================] - 6s 281ms/step - loss: 4.6342e-04 - val_loss: 5.1418e-04\n",
            "Epoch 42/150\n",
            "23/23 [==============================] - 7s 315ms/step - loss: 4.9254e-04 - val_loss: 4.8050e-04\n",
            "Epoch 43/150\n",
            "23/23 [==============================] - 7s 283ms/step - loss: 6.1563e-04 - val_loss: 6.2092e-04\n",
            "Epoch 44/150\n",
            "23/23 [==============================] - 7s 308ms/step - loss: 4.9301e-04 - val_loss: 4.9233e-04\n",
            "Epoch 45/150\n",
            "23/23 [==============================] - 7s 292ms/step - loss: 3.8962e-04 - val_loss: 4.0196e-04\n",
            "Epoch 46/150\n",
            "23/23 [==============================] - 7s 296ms/step - loss: 3.7965e-04 - val_loss: 4.7955e-04\n",
            "Epoch 47/150\n",
            "23/23 [==============================] - 7s 318ms/step - loss: 3.9251e-04 - val_loss: 5.7172e-04\n",
            "Epoch 48/150\n",
            "23/23 [==============================] - 7s 285ms/step - loss: 3.6051e-04 - val_loss: 4.4969e-04\n",
            "Epoch 49/150\n",
            "23/23 [==============================] - 7s 317ms/step - loss: 3.8298e-04 - val_loss: 3.2182e-04\n",
            "Epoch 50/150\n",
            "23/23 [==============================] - 6s 280ms/step - loss: 3.7817e-04 - val_loss: 4.0725e-04\n",
            "Epoch 51/150\n",
            "23/23 [==============================] - 7s 311ms/step - loss: 3.4620e-04 - val_loss: 4.4917e-04\n",
            "Epoch 52/150\n",
            "23/23 [==============================] - 7s 316ms/step - loss: 3.1844e-04 - val_loss: 3.2568e-04\n",
            "Epoch 53/150\n",
            "23/23 [==============================] - 6s 280ms/step - loss: 3.2272e-04 - val_loss: 3.0334e-04\n",
            "Epoch 54/150\n",
            "23/23 [==============================] - 7s 312ms/step - loss: 2.9747e-04 - val_loss: 4.1505e-04\n",
            "Epoch 55/150\n",
            "23/23 [==============================] - 6s 282ms/step - loss: 2.9406e-04 - val_loss: 4.3904e-04\n",
            "Epoch 56/150\n",
            "23/23 [==============================] - 7s 317ms/step - loss: 2.8809e-04 - val_loss: 3.4430e-04\n",
            "Epoch 57/150\n",
            "23/23 [==============================] - 6s 283ms/step - loss: 2.8479e-04 - val_loss: 3.9586e-04\n",
            "Epoch 58/150\n",
            "23/23 [==============================] - 7s 303ms/step - loss: 5.0070e-04 - val_loss: 2.8107e-04\n",
            "Epoch 59/150\n",
            "23/23 [==============================] - 7s 319ms/step - loss: 3.3927e-04 - val_loss: 3.2793e-04\n",
            "Epoch 60/150\n",
            "23/23 [==============================] - 7s 287ms/step - loss: 2.8225e-04 - val_loss: 2.6258e-04\n",
            "Epoch 61/150\n",
            "23/23 [==============================] - 7s 322ms/step - loss: 2.7645e-04 - val_loss: 2.9654e-04\n",
            "Epoch 62/150\n",
            "23/23 [==============================] - 6s 282ms/step - loss: 2.5793e-04 - val_loss: 2.9759e-04\n",
            "Epoch 63/150\n",
            "23/23 [==============================] - 7s 318ms/step - loss: 2.6671e-04 - val_loss: 3.2055e-04\n",
            "Epoch 64/150\n",
            "23/23 [==============================] - 7s 316ms/step - loss: 2.5032e-04 - val_loss: 2.6473e-04\n",
            "Epoch 65/150\n",
            "23/23 [==============================] - 6s 282ms/step - loss: 2.5712e-04 - val_loss: 2.8096e-04\n",
            "Epoch 66/150\n",
            "23/23 [==============================] - 7s 319ms/step - loss: 2.4564e-04 - val_loss: 2.3172e-04\n",
            "Epoch 67/150\n",
            "23/23 [==============================] - 7s 285ms/step - loss: 2.9854e-04 - val_loss: 3.5138e-04\n",
            "Epoch 68/150\n",
            "23/23 [==============================] - 7s 319ms/step - loss: 2.3339e-04 - val_loss: 3.0058e-04\n",
            "Epoch 69/150\n",
            "23/23 [==============================] - 7s 311ms/step - loss: 2.3137e-04 - val_loss: 3.1584e-04\n",
            "Epoch 70/150\n",
            "23/23 [==============================] - 7s 282ms/step - loss: 2.5524e-04 - val_loss: 2.0852e-04\n",
            "Epoch 71/150\n",
            "23/23 [==============================] - 7s 317ms/step - loss: 2.8754e-04 - val_loss: 3.0501e-04\n",
            "Epoch 72/150\n",
            "23/23 [==============================] - 6s 281ms/step - loss: 2.2497e-04 - val_loss: 1.9823e-04\n",
            "Epoch 73/150\n",
            "23/23 [==============================] - 7s 317ms/step - loss: 2.2032e-04 - val_loss: 2.8129e-04\n",
            "Epoch 74/150\n",
            "23/23 [==============================] - 7s 283ms/step - loss: 2.1095e-04 - val_loss: 1.9216e-04\n",
            "Epoch 75/150\n",
            "23/23 [==============================] - 7s 314ms/step - loss: 2.7345e-04 - val_loss: 2.4532e-04\n",
            "Epoch 76/150\n",
            "23/23 [==============================] - 7s 318ms/step - loss: 2.1986e-04 - val_loss: 2.1374e-04\n",
            "Epoch 77/150\n",
            "23/23 [==============================] - 7s 286ms/step - loss: 1.9900e-04 - val_loss: 2.1967e-04\n",
            "Epoch 78/150\n",
            "23/23 [==============================] - 7s 319ms/step - loss: 2.1895e-04 - val_loss: 1.9127e-04\n",
            "Epoch 79/150\n",
            "23/23 [==============================] - 6s 283ms/step - loss: 2.3349e-04 - val_loss: 2.3932e-04\n",
            "Epoch 80/150\n",
            "23/23 [==============================] - 7s 318ms/step - loss: 2.2077e-04 - val_loss: 3.0321e-04\n",
            "Epoch 81/150\n",
            "23/23 [==============================] - 7s 313ms/step - loss: 2.2180e-04 - val_loss: 2.4221e-04\n",
            "Epoch 82/150\n",
            "23/23 [==============================] - 7s 286ms/step - loss: 2.1611e-04 - val_loss: 1.7380e-04\n",
            "Epoch 83/150\n",
            "23/23 [==============================] - 7s 315ms/step - loss: 2.4651e-04 - val_loss: 2.1208e-04\n",
            "Epoch 84/150\n",
            "23/23 [==============================] - 7s 284ms/step - loss: 2.1962e-04 - val_loss: 1.8606e-04\n",
            "Epoch 85/150\n",
            "23/23 [==============================] - 7s 320ms/step - loss: 2.2290e-04 - val_loss: 2.1857e-04\n",
            "Epoch 86/150\n",
            "23/23 [==============================] - 7s 299ms/step - loss: 1.9671e-04 - val_loss: 2.5656e-04\n",
            "Epoch 87/150\n",
            "23/23 [==============================] - 7s 297ms/step - loss: 2.2515e-04 - val_loss: 2.4919e-04\n",
            "Epoch 88/150\n",
            "23/23 [==============================] - 7s 319ms/step - loss: 2.1883e-04 - val_loss: 1.6503e-04\n",
            "Epoch 89/150\n",
            "23/23 [==============================] - 6s 280ms/step - loss: 2.0656e-04 - val_loss: 2.2671e-04\n",
            "Epoch 90/150\n",
            "23/23 [==============================] - 7s 318ms/step - loss: 2.2268e-04 - val_loss: 2.6585e-04\n",
            "Epoch 91/150\n",
            "23/23 [==============================] - 7s 288ms/step - loss: 2.1127e-04 - val_loss: 2.0340e-04\n",
            "Epoch 92/150\n",
            "23/23 [==============================] - 7s 318ms/step - loss: 1.8818e-04 - val_loss: 1.8777e-04\n",
            "Epoch 93/150\n",
            "23/23 [==============================] - 8s 348ms/step - loss: 1.9989e-04 - val_loss: 1.8723e-04\n",
            "Epoch 94/150\n",
            "23/23 [==============================] - 7s 287ms/step - loss: 2.0973e-04 - val_loss: 1.7820e-04\n",
            "Epoch 95/150\n",
            "23/23 [==============================] - 7s 321ms/step - loss: 1.8838e-04 - val_loss: 1.8195e-04\n",
            "Epoch 96/150\n",
            "23/23 [==============================] - 7s 285ms/step - loss: 2.0333e-04 - val_loss: 1.6010e-04\n",
            "Epoch 97/150\n",
            "23/23 [==============================] - 7s 316ms/step - loss: 2.0469e-04 - val_loss: 1.8459e-04\n",
            "Epoch 98/150\n",
            "23/23 [==============================] - 7s 317ms/step - loss: 2.0582e-04 - val_loss: 2.3746e-04\n",
            "Epoch 99/150\n",
            "23/23 [==============================] - 6s 279ms/step - loss: 2.0843e-04 - val_loss: 1.6933e-04\n",
            "Epoch 100/150\n",
            "23/23 [==============================] - 7s 318ms/step - loss: 1.8752e-04 - val_loss: 1.5356e-04\n",
            "Epoch 101/150\n",
            "23/23 [==============================] - 7s 287ms/step - loss: 1.8466e-04 - val_loss: 1.7708e-04\n",
            "Epoch 102/150\n",
            "23/23 [==============================] - 7s 320ms/step - loss: 2.0691e-04 - val_loss: 1.6520e-04\n",
            "Epoch 103/150\n",
            "23/23 [==============================] - 7s 304ms/step - loss: 2.4222e-04 - val_loss: 2.0332e-04\n",
            "Epoch 104/150\n",
            "23/23 [==============================] - 7s 287ms/step - loss: 1.8376e-04 - val_loss: 2.1310e-04\n",
            "Epoch 105/150\n",
            "23/23 [==============================] - 7s 320ms/step - loss: 1.7918e-04 - val_loss: 1.6968e-04\n",
            "Epoch 106/150\n",
            "23/23 [==============================] - 6s 281ms/step - loss: 1.9874e-04 - val_loss: 2.6014e-04\n",
            "Epoch 107/150\n",
            "23/23 [==============================] - 7s 317ms/step - loss: 1.6920e-04 - val_loss: 1.5100e-04\n",
            "Epoch 108/150\n",
            "23/23 [==============================] - 6s 281ms/step - loss: 1.7148e-04 - val_loss: 1.8298e-04\n",
            "Epoch 109/150\n",
            "23/23 [==============================] - 7s 310ms/step - loss: 1.7609e-04 - val_loss: 1.7153e-04\n",
            "Epoch 110/150\n",
            "23/23 [==============================] - 7s 313ms/step - loss: 2.1080e-04 - val_loss: 2.1015e-04\n",
            "Epoch 111/150\n",
            "23/23 [==============================] - 7s 284ms/step - loss: 1.9142e-04 - val_loss: 1.4653e-04\n",
            "Epoch 112/150\n",
            "23/23 [==============================] - 7s 316ms/step - loss: 1.6454e-04 - val_loss: 1.8913e-04\n",
            "Epoch 113/150\n",
            "23/23 [==============================] - 6s 280ms/step - loss: 1.9264e-04 - val_loss: 1.7323e-04\n",
            "Epoch 114/150\n",
            "23/23 [==============================] - 7s 318ms/step - loss: 1.8660e-04 - val_loss: 1.5351e-04\n",
            "Epoch 115/150\n",
            "23/23 [==============================] - 7s 303ms/step - loss: 1.8465e-04 - val_loss: 1.8452e-04\n",
            "Epoch 116/150\n",
            "23/23 [==============================] - 7s 287ms/step - loss: 1.7545e-04 - val_loss: 1.8435e-04\n",
            "Epoch 117/150\n",
            "23/23 [==============================] - 7s 322ms/step - loss: 1.8532e-04 - val_loss: 1.4050e-04\n",
            "Epoch 118/150\n",
            "23/23 [==============================] - 6s 281ms/step - loss: 1.6066e-04 - val_loss: 1.7506e-04\n",
            "Epoch 119/150\n",
            "23/23 [==============================] - 7s 318ms/step - loss: 1.6422e-04 - val_loss: 1.7947e-04\n",
            "Epoch 120/150\n",
            "23/23 [==============================] - 6s 282ms/step - loss: 1.8105e-04 - val_loss: 1.3871e-04\n",
            "Epoch 121/150\n",
            "23/23 [==============================] - 7s 308ms/step - loss: 2.0962e-04 - val_loss: 1.5947e-04\n",
            "Epoch 122/150\n",
            "23/23 [==============================] - 7s 318ms/step - loss: 1.7517e-04 - val_loss: 1.4781e-04\n",
            "Epoch 123/150\n",
            "23/23 [==============================] - 6s 284ms/step - loss: 1.8021e-04 - val_loss: 1.3431e-04\n",
            "Epoch 124/150\n",
            "23/23 [==============================] - 7s 314ms/step - loss: 1.6839e-04 - val_loss: 1.6386e-04\n",
            "Epoch 125/150\n",
            "23/23 [==============================] - 6s 283ms/step - loss: 1.6290e-04 - val_loss: 1.4930e-04\n",
            "Epoch 126/150\n",
            "23/23 [==============================] - 7s 317ms/step - loss: 1.5805e-04 - val_loss: 1.4052e-04\n",
            "Epoch 127/150\n",
            "23/23 [==============================] - 7s 310ms/step - loss: 1.6136e-04 - val_loss: 1.7508e-04\n",
            "Epoch 128/150\n",
            "23/23 [==============================] - 7s 282ms/step - loss: 1.6222e-04 - val_loss: 1.5101e-04\n",
            "Epoch 129/150\n",
            "23/23 [==============================] - 7s 320ms/step - loss: 1.6394e-04 - val_loss: 1.3511e-04\n",
            "Epoch 130/150\n",
            "23/23 [==============================] - 6s 282ms/step - loss: 2.1528e-04 - val_loss: 1.9635e-04\n",
            "Epoch 131/150\n",
            "23/23 [==============================] - 7s 317ms/step - loss: 1.8191e-04 - val_loss: 1.3267e-04\n",
            "Epoch 132/150\n",
            "23/23 [==============================] - 7s 286ms/step - loss: 1.6089e-04 - val_loss: 1.4760e-04\n",
            "Epoch 133/150\n",
            "23/23 [==============================] - 7s 300ms/step - loss: 1.6914e-04 - val_loss: 1.5336e-04\n",
            "Epoch 134/150\n",
            "23/23 [==============================] - 7s 319ms/step - loss: 1.7448e-04 - val_loss: 2.3703e-04\n",
            "Epoch 135/150\n",
            "23/23 [==============================] - 7s 285ms/step - loss: 1.7586e-04 - val_loss: 2.2726e-04\n",
            "Epoch 136/150\n",
            "23/23 [==============================] - 7s 312ms/step - loss: 1.7065e-04 - val_loss: 1.4835e-04\n",
            "Epoch 137/150\n",
            "23/23 [==============================] - 6s 282ms/step - loss: 1.6576e-04 - val_loss: 1.6072e-04\n",
            "Epoch 138/150\n",
            "23/23 [==============================] - 7s 322ms/step - loss: 1.6675e-04 - val_loss: 1.8266e-04\n",
            "Epoch 139/150\n",
            "23/23 [==============================] - 7s 315ms/step - loss: 1.9241e-04 - val_loss: 1.4353e-04\n",
            "Epoch 140/150\n",
            "23/23 [==============================] - 6s 281ms/step - loss: 1.8111e-04 - val_loss: 1.2532e-04\n",
            "Epoch 141/150\n",
            "23/23 [==============================] - 7s 315ms/step - loss: 1.8585e-04 - val_loss: 1.7880e-04\n",
            "Epoch 142/150\n",
            "23/23 [==============================] - 7s 284ms/step - loss: 1.5996e-04 - val_loss: 1.3600e-04\n",
            "Epoch 143/150\n",
            "23/23 [==============================] - 7s 317ms/step - loss: 1.6400e-04 - val_loss: 1.4158e-04\n",
            "Epoch 144/150\n",
            "23/23 [==============================] - 7s 287ms/step - loss: 1.6471e-04 - val_loss: 1.3490e-04\n",
            "Epoch 145/150\n",
            "23/23 [==============================] - 7s 302ms/step - loss: 1.5712e-04 - val_loss: 1.5933e-04\n",
            "Epoch 146/150\n",
            "23/23 [==============================] - 7s 314ms/step - loss: 1.5910e-04 - val_loss: 1.5744e-04\n",
            "Epoch 147/150\n",
            "23/23 [==============================] - 7s 285ms/step - loss: 1.9559e-04 - val_loss: 1.6756e-04\n",
            "Epoch 148/150\n",
            "23/23 [==============================] - 7s 314ms/step - loss: 1.6780e-04 - val_loss: 1.9846e-04\n",
            "Epoch 149/150\n",
            "23/23 [==============================] - 7s 284ms/step - loss: 1.7755e-04 - val_loss: 1.4646e-04\n",
            "Epoch 150/150\n",
            "23/23 [==============================] - 7s 316ms/step - loss: 1.6876e-04 - val_loss: 1.4560e-04\n"
          ]
        },
        {
          "output_type": "execute_result",
          "data": {
            "text/plain": [
              "<tensorflow.python.keras.callbacks.History at 0x7f2dd8329430>"
            ]
          },
          "metadata": {},
          "execution_count": 19
        }
      ]
    },
    {
      "cell_type": "code",
      "source": [
        "train_predict = model.predict(x_train)\n",
        "test_predict = model.predict(x_test)\n",
        "train_predict = scaler.inverse_transform(train_predict)\n",
        "test_predict = scaler.inverse_transform(test_predict)"
      ],
      "metadata": {
        "id": "z9wrIZjyPdHk"
      },
      "execution_count": 20,
      "outputs": []
    },
    {
      "cell_type": "code",
      "source": [
        "import math\n",
        "from sklearn.metrics import mean_squared_error\n",
        "math.sqrt(mean_squared_error(y_train, train_predict))"
      ],
      "metadata": {
        "colab": {
          "base_uri": "https://localhost:8080/"
        },
        "id": "zuoJJ3sWSA6l",
        "outputId": "8ee17927-11e9-4101-9f58-23d656cd12bd"
      },
      "execution_count": 21,
      "outputs": [
        {
          "output_type": "execute_result",
          "data": {
            "text/plain": [
              "167.36645441961542"
            ]
          },
          "metadata": {},
          "execution_count": 21
        }
      ]
    },
    {
      "cell_type": "code",
      "source": [
        "math.sqrt(mean_squared_error(y_test, test_predict))"
      ],
      "metadata": {
        "colab": {
          "base_uri": "https://localhost:8080/"
        },
        "id": "NbjBkeoJSA_c",
        "outputId": "32f2f220-d132-4f88-ec2c-532e631d32a9"
      },
      "execution_count": 22,
      "outputs": [
        {
          "output_type": "execute_result",
          "data": {
            "text/plain": [
              "107.76259376005206"
            ]
          },
          "metadata": {},
          "execution_count": 22
        }
      ]
    },
    {
      "cell_type": "code",
      "source": [
        "look_back = 100\n",
        "trainPredictPlot = np.empty_like(dataframe_high)\n",
        "trainPredictPlot[:,:] = np.nan\n",
        "trainPredictPlot[look_back:len(train_predict) + look_back, :] = train_predict\n",
        "testPredictPlot = np.empty_like(dataframe_high)\n",
        "testPredictPlot[:,:] = np.nan\n",
        "testPredictPlot[len(train_predict) + (look_back * 2)+1:len(dataframe_high) - 1, :] = test_predict"
      ],
      "metadata": {
        "id": "-oyS98q7SuPf"
      },
      "execution_count": 23,
      "outputs": []
    },
    {
      "cell_type": "code",
      "source": [
        "plt.plot(scaler.inverse_transform(dataframe_high))\n",
        "plt.plot(trainPredictPlot)\n",
        "plt.plot(testPredictPlot)\n",
        "plt.show()\n",
        "\n"
      ],
      "metadata": {
        "colab": {
          "base_uri": "https://localhost:8080/",
          "height": 265
        },
        "id": "RIrrm0iGSBDt",
        "outputId": "323d583b-3f1b-45cc-ed76-c92455d18624"
      },
      "execution_count": 24,
      "outputs": [
        {
          "output_type": "display_data",
          "data": {
            "text/plain": [
              "<Figure size 432x288 with 1 Axes>"
            ],
            "image/png": "[encoded data removed]"
          },
          "metadata": {
            "needs_background": "light"
          }
        }
      ]
    },
    {
      "cell_type": "code",
      "source": [
        "x_input = test_data[409:].reshape(1,-1)\n",
        "x_input.shape"
      ],
      "metadata": {
        "colab": {
          "base_uri": "https://localhost:8080/"
        },
        "id": "RL399n5riJxf",
        "outputId": "6259a932-5112-4f24-bcbd-8981cf8012b3"
      },
      "execution_count": 25,
      "outputs": [
        {
          "output_type": "execute_result",
          "data": {
            "text/plain": [
              "(1, 100)"
            ]
          },
          "metadata": {},
          "execution_count": 25
        }
      ]
    },
    {
      "cell_type": "code",
      "source": [
        "temp_input = list(x_input)\n",
        "temp_input = temp_input[0].tolist()\n",
        "\n",
        "lst_output=[]\n",
        "n_steps=100\n",
        "nextNumberOfDays = 28\n",
        "i=0\n",
        "\n",
        "while(i<nextNumberOfDays):\n",
        "    \n",
        "    if(len(temp_input)>100):\n",
        "        x_input=np.array(temp_input[1:])\n",
        "        print(\"{} day input {}\".format(i,x_input))\n",
        "        x_input=x_input.reshape(1,-1)\n",
        "        x_input = x_input.reshape((1, n_steps, 1))\n",
        "        yhat = model.predict(x_input, verbose=0)\n",
        "        print(\"{} day output {}\".format(i,yhat))\n",
        "        temp_input.extend(yhat[0].tolist())\n",
        "        temp_input=temp_input[1:]\n",
        "        lst_output.extend(yhat.tolist())\n",
        "        i=i+1\n",
        "    else:\n",
        "        x_input = x_input.reshape((1, n_steps,1))\n",
        "        yhat = model.predict(x_input, verbose=0)\n",
        "        print(yhat[0])\n",
        "        temp_input.extend(yhat[0].tolist())\n",
        "        print(len(temp_input))\n",
        "        lst_output.extend(yhat.tolist())\n",
        "        i=i+1\n",
        "    \n",
        "print(lst_output)"
      ],
      "metadata": {
        "colab": {
          "base_uri": "https://localhost:8080/"
        },
        "id": "7sUm0b5FglOJ",
        "outputId": "ab790e11-861f-4c06-9e0d-a68c6d278626"
      },
      "execution_count": 26,
      "outputs": [
        {
          "output_type": "stream",
          "name": "stdout",
          "text": [
            "[0.16484077]\n",
            "101\n",
            "1 day input [0.13254727 0.13397032 0.13356373 0.13498679 0.14108559 0.13498679\n",
            " 0.12644847 0.12685505 0.12482212 0.14515145 0.1467778  0.15003049\n",
            " 0.15368977 0.17198618 0.16548079 0.17625534 0.17564546 0.19129904\n",
            " 0.20817239 0.20309006 0.18479366 0.17930474 0.1896727  0.17483228\n",
            " 0.17849156 0.17645863 0.18540354 0.18377719 0.19190892 0.18987599\n",
            " 0.19028258 0.19394186 0.20004066 0.19638138 0.19495832 0.20349665\n",
            " 0.19597479 0.21162838 0.22036999 0.20979874 0.21528766 0.21589754\n",
            " 0.21610083 0.22748526 0.19150234 0.1833706  0.17340923 0.16751372\n",
            " 0.1622281  0.17056312 0.17462899 0.17930474 0.18174426 0.16853019\n",
            " 0.16548079 0.1742224  0.1713763  0.17300264 0.17157959 0.17767839\n",
            " 0.18459036 0.18702988 0.18987599 0.19109575 0.18581012 0.17015654\n",
            " 0.16751372 0.16974995 0.16609067 0.15531612 0.15003049 0.15064037\n",
            " 0.14860744 0.14596463 0.15043708 0.14413499 0.12441553 0.12827811\n",
            " 0.11547062 0.12034966 0.13478349 0.13498679 0.12868469 0.13295385\n",
            " 0.12807481 0.12624517 0.13051433 0.13905265 0.14718439 0.15104696\n",
            " 0.14515145 0.14311852 0.15816223 0.15328319 0.14921732 0.15531612\n",
            " 0.15917869 0.15938199 0.16344786 0.16484077]\n",
            "1 day output [[0.16696706]]\n",
            "2 day input [0.13397032 0.13356373 0.13498679 0.14108559 0.13498679 0.12644847\n",
            " 0.12685505 0.12482212 0.14515145 0.1467778  0.15003049 0.15368977\n",
            " 0.17198618 0.16548079 0.17625534 0.17564546 0.19129904 0.20817239\n",
            " 0.20309006 0.18479366 0.17930474 0.1896727  0.17483228 0.17849156\n",
            " 0.17645863 0.18540354 0.18377719 0.19190892 0.18987599 0.19028258\n",
            " 0.19394186 0.20004066 0.19638138 0.19495832 0.20349665 0.19597479\n",
            " 0.21162838 0.22036999 0.20979874 0.21528766 0.21589754 0.21610083\n",
            " 0.22748526 0.19150234 0.1833706  0.17340923 0.16751372 0.1622281\n",
            " 0.17056312 0.17462899 0.17930474 0.18174426 0.16853019 0.16548079\n",
            " 0.1742224  0.1713763  0.17300264 0.17157959 0.17767839 0.18459036\n",
            " 0.18702988 0.18987599 0.19109575 0.18581012 0.17015654 0.16751372\n",
            " 0.16974995 0.16609067 0.15531612 0.15003049 0.15064037 0.14860744\n",
            " 0.14596463 0.15043708 0.14413499 0.12441553 0.12827811 0.11547062\n",
            " 0.12034966 0.13478349 0.13498679 0.12868469 0.13295385 0.12807481\n",
            " 0.12624517 0.13051433 0.13905265 0.14718439 0.15104696 0.14515145\n",
            " 0.14311852 0.15816223 0.15328319 0.14921732 0.15531612 0.15917869\n",
            " 0.15938199 0.16344786 0.16484077 0.16696706]\n",
            "2 day output [[0.1688757]]\n",
            "3 day input [0.13356373 0.13498679 0.14108559 0.13498679 0.12644847 0.12685505\n",
            " 0.12482212 0.14515145 0.1467778  0.15003049 0.15368977 0.17198618\n",
            " 0.16548079 0.17625534 0.17564546 0.19129904 0.20817239 0.20309006\n",
            " 0.18479366 0.17930474 0.1896727  0.17483228 0.17849156 0.17645863\n",
            " 0.18540354 0.18377719 0.19190892 0.18987599 0.19028258 0.19394186\n",
            " 0.20004066 0.19638138 0.19495832 0.20349665 0.19597479 0.21162838\n",
            " 0.22036999 0.20979874 0.21528766 0.21589754 0.21610083 0.22748526\n",
            " 0.19150234 0.1833706  0.17340923 0.16751372 0.1622281  0.17056312\n",
            " 0.17462899 0.17930474 0.18174426 0.16853019 0.16548079 0.1742224\n",
            " 0.1713763  0.17300264 0.17157959 0.17767839 0.18459036 0.18702988\n",
            " 0.18987599 0.19109575 0.18581012 0.17015654 0.16751372 0.16974995\n",
            " 0.16609067 0.15531612 0.15003049 0.15064037 0.14860744 0.14596463\n",
            " 0.15043708 0.14413499 0.12441553 0.12827811 0.11547062 0.12034966\n",
            " 0.13478349 0.13498679 0.12868469 0.13295385 0.12807481 0.12624517\n",
            " 0.13051433 0.13905265 0.14718439 0.15104696 0.14515145 0.14311852\n",
            " 0.15816223 0.15328319 0.14921732 0.15531612 0.15917869 0.15938199\n",
            " 0.16344786 0.16484077 0.16696706 0.16887569]\n",
            "3 day output [[0.17069528]]\n",
            "4 day input [0.13498679 0.14108559 0.13498679 0.12644847 0.12685505 0.12482212\n",
            " 0.14515145 0.1467778  0.15003049 0.15368977 0.17198618 0.16548079\n",
            " 0.17625534 0.17564546 0.19129904 0.20817239 0.20309006 0.18479366\n",
            " 0.17930474 0.1896727  0.17483228 0.17849156 0.17645863 0.18540354\n",
            " 0.18377719 0.19190892 0.18987599 0.19028258 0.19394186 0.20004066\n",
            " 0.19638138 0.19495832 0.20349665 0.19597479 0.21162838 0.22036999\n",
            " 0.20979874 0.21528766 0.21589754 0.21610083 0.22748526 0.19150234\n",
            " 0.1833706  0.17340923 0.16751372 0.1622281  0.17056312 0.17462899\n",
            " 0.17930474 0.18174426 0.16853019 0.16548079 0.1742224  0.1713763\n",
            " 0.17300264 0.17157959 0.17767839 0.18459036 0.18702988 0.18987599\n",
            " 0.19109575 0.18581012 0.17015654 0.16751372 0.16974995 0.16609067\n",
            " 0.15531612 0.15003049 0.15064037 0.14860744 0.14596463 0.15043708\n",
            " 0.14413499 0.12441553 0.12827811 0.11547062 0.12034966 0.13478349\n",
            " 0.13498679 0.12868469 0.13295385 0.12807481 0.12624517 0.13051433\n",
            " 0.13905265 0.14718439 0.15104696 0.14515145 0.14311852 0.15816223\n",
            " 0.15328319 0.14921732 0.15531612 0.15917869 0.15938199 0.16344786\n",
            " 0.16484077 0.16696706 0.16887569 0.17069528]\n",
            "4 day output [[0.17247598]]\n",
            "5 day input [0.14108559 0.13498679 0.12644847 0.12685505 0.12482212 0.14515145\n",
            " 0.1467778  0.15003049 0.15368977 0.17198618 0.16548079 0.17625534\n",
            " 0.17564546 0.19129904 0.20817239 0.20309006 0.18479366 0.17930474\n",
            " 0.1896727  0.17483228 0.17849156 0.17645863 0.18540354 0.18377719\n",
            " 0.19190892 0.18987599 0.19028258 0.19394186 0.20004066 0.19638138\n",
            " 0.19495832 0.20349665 0.19597479 0.21162838 0.22036999 0.20979874\n",
            " 0.21528766 0.21589754 0.21610083 0.22748526 0.19150234 0.1833706\n",
            " 0.17340923 0.16751372 0.1622281  0.17056312 0.17462899 0.17930474\n",
            " 0.18174426 0.16853019 0.16548079 0.1742224  0.1713763  0.17300264\n",
            " 0.17157959 0.17767839 0.18459036 0.18702988 0.18987599 0.19109575\n",
            " 0.18581012 0.17015654 0.16751372 0.16974995 0.16609067 0.15531612\n",
            " 0.15003049 0.15064037 0.14860744 0.14596463 0.15043708 0.14413499\n",
            " 0.12441553 0.12827811 0.11547062 0.12034966 0.13478349 0.13498679\n",
            " 0.12868469 0.13295385 0.12807481 0.12624517 0.13051433 0.13905265\n",
            " 0.14718439 0.15104696 0.14515145 0.14311852 0.15816223 0.15328319\n",
            " 0.14921732 0.15531612 0.15917869 0.15938199 0.16344786 0.16484077\n",
            " 0.16696706 0.16887569 0.17069528 0.17247598]\n",
            "5 day output [[0.17424107]]\n",
            "6 day input [0.13498679 0.12644847 0.12685505 0.12482212 0.14515145 0.1467778\n",
            " 0.15003049 0.15368977 0.17198618 0.16548079 0.17625534 0.17564546\n",
            " 0.19129904 0.20817239 0.20309006 0.18479366 0.17930474 0.1896727\n",
            " 0.17483228 0.17849156 0.17645863 0.18540354 0.18377719 0.19190892\n",
            " 0.18987599 0.19028258 0.19394186 0.20004066 0.19638138 0.19495832\n",
            " 0.20349665 0.19597479 0.21162838 0.22036999 0.20979874 0.21528766\n",
            " 0.21589754 0.21610083 0.22748526 0.19150234 0.1833706  0.17340923\n",
            " 0.16751372 0.1622281  0.17056312 0.17462899 0.17930474 0.18174426\n",
            " 0.16853019 0.16548079 0.1742224  0.1713763  0.17300264 0.17157959\n",
            " 0.17767839 0.18459036 0.18702988 0.18987599 0.19109575 0.18581012\n",
            " 0.17015654 0.16751372 0.16974995 0.16609067 0.15531612 0.15003049\n",
            " 0.15064037 0.14860744 0.14596463 0.15043708 0.14413499 0.12441553\n",
            " 0.12827811 0.11547062 0.12034966 0.13478349 0.13498679 0.12868469\n",
            " 0.13295385 0.12807481 0.12624517 0.13051433 0.13905265 0.14718439\n",
            " 0.15104696 0.14515145 0.14311852 0.15816223 0.15328319 0.14921732\n",
            " 0.15531612 0.15917869 0.15938199 0.16344786 0.16484077 0.16696706\n",
            " 0.16887569 0.17069528 0.17247598 0.17424107]\n",
            "6 day output [[0.17600285]]\n",
            "7 day input [0.12644847 0.12685505 0.12482212 0.14515145 0.1467778  0.15003049\n",
            " 0.15368977 0.17198618 0.16548079 0.17625534 0.17564546 0.19129904\n",
            " 0.20817239 0.20309006 0.18479366 0.17930474 0.1896727  0.17483228\n",
            " 0.17849156 0.17645863 0.18540354 0.18377719 0.19190892 0.18987599\n",
            " 0.19028258 0.19394186 0.20004066 0.19638138 0.19495832 0.20349665\n",
            " 0.19597479 0.21162838 0.22036999 0.20979874 0.21528766 0.21589754\n",
            " 0.21610083 0.22748526 0.19150234 0.1833706  0.17340923 0.16751372\n",
            " 0.1622281  0.17056312 0.17462899 0.17930474 0.18174426 0.16853019\n",
            " 0.16548079 0.1742224  0.1713763  0.17300264 0.17157959 0.17767839\n",
            " 0.18459036 0.18702988 0.18987599 0.19109575 0.18581012 0.17015654\n",
            " 0.16751372 0.16974995 0.16609067 0.15531612 0.15003049 0.15064037\n",
            " 0.14860744 0.14596463 0.15043708 0.14413499 0.12441553 0.12827811\n",
            " 0.11547062 0.12034966 0.13478349 0.13498679 0.12868469 0.13295385\n",
            " 0.12807481 0.12624517 0.13051433 0.13905265 0.14718439 0.15104696\n",
            " 0.14515145 0.14311852 0.15816223 0.15328319 0.14921732 0.15531612\n",
            " 0.15917869 0.15938199 0.16344786 0.16484077 0.16696706 0.16887569\n",
            " 0.17069528 0.17247598 0.17424107 0.17600285]\n",
            "7 day output [[0.177768]]\n",
            "8 day input [0.12685505 0.12482212 0.14515145 0.1467778  0.15003049 0.15368977\n",
            " 0.17198618 0.16548079 0.17625534 0.17564546 0.19129904 0.20817239\n",
            " 0.20309006 0.18479366 0.17930474 0.1896727  0.17483228 0.17849156\n",
            " 0.17645863 0.18540354 0.18377719 0.19190892 0.18987599 0.19028258\n",
            " 0.19394186 0.20004066 0.19638138 0.19495832 0.20349665 0.19597479\n",
            " 0.21162838 0.22036999 0.20979874 0.21528766 0.21589754 0.21610083\n",
            " 0.22748526 0.19150234 0.1833706  0.17340923 0.16751372 0.1622281\n",
            " 0.17056312 0.17462899 0.17930474 0.18174426 0.16853019 0.16548079\n",
            " 0.1742224  0.1713763  0.17300264 0.17157959 0.17767839 0.18459036\n",
            " 0.18702988 0.18987599 0.19109575 0.18581012 0.17015654 0.16751372\n",
            " 0.16974995 0.16609067 0.15531612 0.15003049 0.15064037 0.14860744\n",
            " 0.14596463 0.15043708 0.14413499 0.12441553 0.12827811 0.11547062\n",
            " 0.12034966 0.13478349 0.13498679 0.12868469 0.13295385 0.12807481\n",
            " 0.12624517 0.13051433 0.13905265 0.14718439 0.15104696 0.14515145\n",
            " 0.14311852 0.15816223 0.15328319 0.14921732 0.15531612 0.15917869\n",
            " 0.15938199 0.16344786 0.16484077 0.16696706 0.16887569 0.17069528\n",
            " 0.17247598 0.17424107 0.17600285 0.17776801]\n",
            "8 day output [[0.1795404]]\n",
            "9 day input [0.12482212 0.14515145 0.1467778  0.15003049 0.15368977 0.17198618\n",
            " 0.16548079 0.17625534 0.17564546 0.19129904 0.20817239 0.20309006\n",
            " 0.18479366 0.17930474 0.1896727  0.17483228 0.17849156 0.17645863\n",
            " 0.18540354 0.18377719 0.19190892 0.18987599 0.19028258 0.19394186\n",
            " 0.20004066 0.19638138 0.19495832 0.20349665 0.19597479 0.21162838\n",
            " 0.22036999 0.20979874 0.21528766 0.21589754 0.21610083 0.22748526\n",
            " 0.19150234 0.1833706  0.17340923 0.16751372 0.1622281  0.17056312\n",
            " 0.17462899 0.17930474 0.18174426 0.16853019 0.16548079 0.1742224\n",
            " 0.1713763  0.17300264 0.17157959 0.17767839 0.18459036 0.18702988\n",
            " 0.18987599 0.19109575 0.18581012 0.17015654 0.16751372 0.16974995\n",
            " 0.16609067 0.15531612 0.15003049 0.15064037 0.14860744 0.14596463\n",
            " 0.15043708 0.14413499 0.12441553 0.12827811 0.11547062 0.12034966\n",
            " 0.13478349 0.13498679 0.12868469 0.13295385 0.12807481 0.12624517\n",
            " 0.13051433 0.13905265 0.14718439 0.15104696 0.14515145 0.14311852\n",
            " 0.15816223 0.15328319 0.14921732 0.15531612 0.15917869 0.15938199\n",
            " 0.16344786 0.16484077 0.16696706 0.16887569 0.17069528 0.17247598\n",
            " 0.17424107 0.17600285 0.17776801 0.1795404 ]\n",
            "9 day output [[0.18132189]]\n",
            "10 day input [0.14515145 0.1467778  0.15003049 0.15368977 0.17198618 0.16548079\n",
            " 0.17625534 0.17564546 0.19129904 0.20817239 0.20309006 0.18479366\n",
            " 0.17930474 0.1896727  0.17483228 0.17849156 0.17645863 0.18540354\n",
            " 0.18377719 0.19190892 0.18987599 0.19028258 0.19394186 0.20004066\n",
            " 0.19638138 0.19495832 0.20349665 0.19597479 0.21162838 0.22036999\n",
            " 0.20979874 0.21528766 0.21589754 0.21610083 0.22748526 0.19150234\n",
            " 0.1833706  0.17340923 0.16751372 0.1622281  0.17056312 0.17462899\n",
            " 0.17930474 0.18174426 0.16853019 0.16548079 0.1742224  0.1713763\n",
            " 0.17300264 0.17157959 0.17767839 0.18459036 0.18702988 0.18987599\n",
            " 0.19109575 0.18581012 0.17015654 0.16751372 0.16974995 0.16609067\n",
            " 0.15531612 0.15003049 0.15064037 0.14860744 0.14596463 0.15043708\n",
            " 0.14413499 0.12441553 0.12827811 0.11547062 0.12034966 0.13478349\n",
            " 0.13498679 0.12868469 0.13295385 0.12807481 0.12624517 0.13051433\n",
            " 0.13905265 0.14718439 0.15104696 0.14515145 0.14311852 0.15816223\n",
            " 0.15328319 0.14921732 0.15531612 0.15917869 0.15938199 0.16344786\n",
            " 0.16484077 0.16696706 0.16887569 0.17069528 0.17247598 0.17424107\n",
            " 0.17600285 0.17776801 0.1795404  0.18132189]\n",
            "10 day output [[0.18311355]]\n",
            "11 day input [0.1467778  0.15003049 0.15368977 0.17198618 0.16548079 0.17625534\n",
            " 0.17564546 0.19129904 0.20817239 0.20309006 0.18479366 0.17930474\n",
            " 0.1896727  0.17483228 0.17849156 0.17645863 0.18540354 0.18377719\n",
            " 0.19190892 0.18987599 0.19028258 0.19394186 0.20004066 0.19638138\n",
            " 0.19495832 0.20349665 0.19597479 0.21162838 0.22036999 0.20979874\n",
            " 0.21528766 0.21589754 0.21610083 0.22748526 0.19150234 0.1833706\n",
            " 0.17340923 0.16751372 0.1622281  0.17056312 0.17462899 0.17930474\n",
            " 0.18174426 0.16853019 0.16548079 0.1742224  0.1713763  0.17300264\n",
            " 0.17157959 0.17767839 0.18459036 0.18702988 0.18987599 0.19109575\n",
            " 0.18581012 0.17015654 0.16751372 0.16974995 0.16609067 0.15531612\n",
            " 0.15003049 0.15064037 0.14860744 0.14596463 0.15043708 0.14413499\n",
            " 0.12441553 0.12827811 0.11547062 0.12034966 0.13478349 0.13498679\n",
            " 0.12868469 0.13295385 0.12807481 0.12624517 0.13051433 0.13905265\n",
            " 0.14718439 0.15104696 0.14515145 0.14311852 0.15816223 0.15328319\n",
            " 0.14921732 0.15531612 0.15917869 0.15938199 0.16344786 0.16484077\n",
            " 0.16696706 0.16887569 0.17069528 0.17247598 0.17424107 0.17600285\n",
            " 0.17776801 0.1795404  0.18132189 0.18311355]\n",
            "11 day output [[0.18491594]]\n",
            "12 day input [0.15003049 0.15368977 0.17198618 0.16548079 0.17625534 0.17564546\n",
            " 0.19129904 0.20817239 0.20309006 0.18479366 0.17930474 0.1896727\n",
            " 0.17483228 0.17849156 0.17645863 0.18540354 0.18377719 0.19190892\n",
            " 0.18987599 0.19028258 0.19394186 0.20004066 0.19638138 0.19495832\n",
            " 0.20349665 0.19597479 0.21162838 0.22036999 0.20979874 0.21528766\n",
            " 0.21589754 0.21610083 0.22748526 0.19150234 0.1833706  0.17340923\n",
            " 0.16751372 0.1622281  0.17056312 0.17462899 0.17930474 0.18174426\n",
            " 0.16853019 0.16548079 0.1742224  0.1713763  0.17300264 0.17157959\n",
            " 0.17767839 0.18459036 0.18702988 0.18987599 0.19109575 0.18581012\n",
            " 0.17015654 0.16751372 0.16974995 0.16609067 0.15531612 0.15003049\n",
            " 0.15064037 0.14860744 0.14596463 0.15043708 0.14413499 0.12441553\n",
            " 0.12827811 0.11547062 0.12034966 0.13478349 0.13498679 0.12868469\n",
            " 0.13295385 0.12807481 0.12624517 0.13051433 0.13905265 0.14718439\n",
            " 0.15104696 0.14515145 0.14311852 0.15816223 0.15328319 0.14921732\n",
            " 0.15531612 0.15917869 0.15938199 0.16344786 0.16484077 0.16696706\n",
            " 0.16887569 0.17069528 0.17247598 0.17424107 0.17600285 0.17776801\n",
            " 0.1795404  0.18132189 0.18311355 0.18491594]\n",
            "12 day output [[0.18672964]]\n",
            "13 day input [0.15368977 0.17198618 0.16548079 0.17625534 0.17564546 0.19129904\n",
            " 0.20817239 0.20309006 0.18479366 0.17930474 0.1896727  0.17483228\n",
            " 0.17849156 0.17645863 0.18540354 0.18377719 0.19190892 0.18987599\n",
            " 0.19028258 0.19394186 0.20004066 0.19638138 0.19495832 0.20349665\n",
            " 0.19597479 0.21162838 0.22036999 0.20979874 0.21528766 0.21589754\n",
            " 0.21610083 0.22748526 0.19150234 0.1833706  0.17340923 0.16751372\n",
            " 0.1622281  0.17056312 0.17462899 0.17930474 0.18174426 0.16853019\n",
            " 0.16548079 0.1742224  0.1713763  0.17300264 0.17157959 0.17767839\n",
            " 0.18459036 0.18702988 0.18987599 0.19109575 0.18581012 0.17015654\n",
            " 0.16751372 0.16974995 0.16609067 0.15531612 0.15003049 0.15064037\n",
            " 0.14860744 0.14596463 0.15043708 0.14413499 0.12441553 0.12827811\n",
            " 0.11547062 0.12034966 0.13478349 0.13498679 0.12868469 0.13295385\n",
            " 0.12807481 0.12624517 0.13051433 0.13905265 0.14718439 0.15104696\n",
            " 0.14515145 0.14311852 0.15816223 0.15328319 0.14921732 0.15531612\n",
            " 0.15917869 0.15938199 0.16344786 0.16484077 0.16696706 0.16887569\n",
            " 0.17069528 0.17247598 0.17424107 0.17600285 0.17776801 0.1795404\n",
            " 0.18132189 0.18311355 0.18491594 0.18672964]\n",
            "13 day output [[0.18855536]]\n",
            "14 day input [0.17198618 0.16548079 0.17625534 0.17564546 0.19129904 0.20817239\n",
            " 0.20309006 0.18479366 0.17930474 0.1896727  0.17483228 0.17849156\n",
            " 0.17645863 0.18540354 0.18377719 0.19190892 0.18987599 0.19028258\n",
            " 0.19394186 0.20004066 0.19638138 0.19495832 0.20349665 0.19597479\n",
            " 0.21162838 0.22036999 0.20979874 0.21528766 0.21589754 0.21610083\n",
            " 0.22748526 0.19150234 0.1833706  0.17340923 0.16751372 0.1622281\n",
            " 0.17056312 0.17462899 0.17930474 0.18174426 0.16853019 0.16548079\n",
            " 0.1742224  0.1713763  0.17300264 0.17157959 0.17767839 0.18459036\n",
            " 0.18702988 0.18987599 0.19109575 0.18581012 0.17015654 0.16751372\n",
            " 0.16974995 0.16609067 0.15531612 0.15003049 0.15064037 0.14860744\n",
            " 0.14596463 0.15043708 0.14413499 0.12441553 0.12827811 0.11547062\n",
            " 0.12034966 0.13478349 0.13498679 0.12868469 0.13295385 0.12807481\n",
            " 0.12624517 0.13051433 0.13905265 0.14718439 0.15104696 0.14515145\n",
            " 0.14311852 0.15816223 0.15328319 0.14921732 0.15531612 0.15917869\n",
            " 0.15938199 0.16344786 0.16484077 0.16696706 0.16887569 0.17069528\n",
            " 0.17247598 0.17424107 0.17600285 0.17776801 0.1795404  0.18132189\n",
            " 0.18311355 0.18491594 0.18672964 0.18855536]\n",
            "14 day output [[0.1903941]]\n",
            "15 day input [0.16548079 0.17625534 0.17564546 0.19129904 0.20817239 0.20309006\n",
            " 0.18479366 0.17930474 0.1896727  0.17483228 0.17849156 0.17645863\n",
            " 0.18540354 0.18377719 0.19190892 0.18987599 0.19028258 0.19394186\n",
            " 0.20004066 0.19638138 0.19495832 0.20349665 0.19597479 0.21162838\n",
            " 0.22036999 0.20979874 0.21528766 0.21589754 0.21610083 0.22748526\n",
            " 0.19150234 0.1833706  0.17340923 0.16751372 0.1622281  0.17056312\n",
            " 0.17462899 0.17930474 0.18174426 0.16853019 0.16548079 0.1742224\n",
            " 0.1713763  0.17300264 0.17157959 0.17767839 0.18459036 0.18702988\n",
            " 0.18987599 0.19109575 0.18581012 0.17015654 0.16751372 0.16974995\n",
            " 0.16609067 0.15531612 0.15003049 0.15064037 0.14860744 0.14596463\n",
            " 0.15043708 0.14413499 0.12441553 0.12827811 0.11547062 0.12034966\n",
            " 0.13478349 0.13498679 0.12868469 0.13295385 0.12807481 0.12624517\n",
            " 0.13051433 0.13905265 0.14718439 0.15104696 0.14515145 0.14311852\n",
            " 0.15816223 0.15328319 0.14921732 0.15531612 0.15917869 0.15938199\n",
            " 0.16344786 0.16484077 0.16696706 0.16887569 0.17069528 0.17247598\n",
            " 0.17424107 0.17600285 0.17776801 0.1795404  0.18132189 0.18311355\n",
            " 0.18491594 0.18672964 0.18855536 0.1903941 ]\n",
            "15 day output [[0.19224688]]\n",
            "16 day input [0.17625534 0.17564546 0.19129904 0.20817239 0.20309006 0.18479366\n",
            " 0.17930474 0.1896727  0.17483228 0.17849156 0.17645863 0.18540354\n",
            " 0.18377719 0.19190892 0.18987599 0.19028258 0.19394186 0.20004066\n",
            " 0.19638138 0.19495832 0.20349665 0.19597479 0.21162838 0.22036999\n",
            " 0.20979874 0.21528766 0.21589754 0.21610083 0.22748526 0.19150234\n",
            " 0.1833706  0.17340923 0.16751372 0.1622281  0.17056312 0.17462899\n",
            " 0.17930474 0.18174426 0.16853019 0.16548079 0.1742224  0.1713763\n",
            " 0.17300264 0.17157959 0.17767839 0.18459036 0.18702988 0.18987599\n",
            " 0.19109575 0.18581012 0.17015654 0.16751372 0.16974995 0.16609067\n",
            " 0.15531612 0.15003049 0.15064037 0.14860744 0.14596463 0.15043708\n",
            " 0.14413499 0.12441553 0.12827811 0.11547062 0.12034966 0.13478349\n",
            " 0.13498679 0.12868469 0.13295385 0.12807481 0.12624517 0.13051433\n",
            " 0.13905265 0.14718439 0.15104696 0.14515145 0.14311852 0.15816223\n",
            " 0.15328319 0.14921732 0.15531612 0.15917869 0.15938199 0.16344786\n",
            " 0.16484077 0.16696706 0.16887569 0.17069528 0.17247598 0.17424107\n",
            " 0.17600285 0.17776801 0.1795404  0.18132189 0.18311355 0.18491594\n",
            " 0.18672964 0.18855536 0.1903941  0.19224688]\n",
            "16 day output [[0.19411525]]\n",
            "17 day input [0.17564546 0.19129904 0.20817239 0.20309006 0.18479366 0.17930474\n",
            " 0.1896727  0.17483228 0.17849156 0.17645863 0.18540354 0.18377719\n",
            " 0.19190892 0.18987599 0.19028258 0.19394186 0.20004066 0.19638138\n",
            " 0.19495832 0.20349665 0.19597479 0.21162838 0.22036999 0.20979874\n",
            " 0.21528766 0.21589754 0.21610083 0.22748526 0.19150234 0.1833706\n",
            " 0.17340923 0.16751372 0.1622281  0.17056312 0.17462899 0.17930474\n",
            " 0.18174426 0.16853019 0.16548079 0.1742224  0.1713763  0.17300264\n",
            " 0.17157959 0.17767839 0.18459036 0.18702988 0.18987599 0.19109575\n",
            " 0.18581012 0.17015654 0.16751372 0.16974995 0.16609067 0.15531612\n",
            " 0.15003049 0.15064037 0.14860744 0.14596463 0.15043708 0.14413499\n",
            " 0.12441553 0.12827811 0.11547062 0.12034966 0.13478349 0.13498679\n",
            " 0.12868469 0.13295385 0.12807481 0.12624517 0.13051433 0.13905265\n",
            " 0.14718439 0.15104696 0.14515145 0.14311852 0.15816223 0.15328319\n",
            " 0.14921732 0.15531612 0.15917869 0.15938199 0.16344786 0.16484077\n",
            " 0.16696706 0.16887569 0.17069528 0.17247598 0.17424107 0.17600285\n",
            " 0.17776801 0.1795404  0.18132189 0.18311355 0.18491594 0.18672964\n",
            " 0.18855536 0.1903941  0.19224688 0.19411525]\n",
            "17 day output [[0.19600053]]\n",
            "18 day input [0.19129904 0.20817239 0.20309006 0.18479366 0.17930474 0.1896727\n",
            " 0.17483228 0.17849156 0.17645863 0.18540354 0.18377719 0.19190892\n",
            " 0.18987599 0.19028258 0.19394186 0.20004066 0.19638138 0.19495832\n",
            " 0.20349665 0.19597479 0.21162838 0.22036999 0.20979874 0.21528766\n",
            " 0.21589754 0.21610083 0.22748526 0.19150234 0.1833706  0.17340923\n",
            " 0.16751372 0.1622281  0.17056312 0.17462899 0.17930474 0.18174426\n",
            " 0.16853019 0.16548079 0.1742224  0.1713763  0.17300264 0.17157959\n",
            " 0.17767839 0.18459036 0.18702988 0.18987599 0.19109575 0.18581012\n",
            " 0.17015654 0.16751372 0.16974995 0.16609067 0.15531612 0.15003049\n",
            " 0.15064037 0.14860744 0.14596463 0.15043708 0.14413499 0.12441553\n",
            " 0.12827811 0.11547062 0.12034966 0.13478349 0.13498679 0.12868469\n",
            " 0.13295385 0.12807481 0.12624517 0.13051433 0.13905265 0.14718439\n",
            " 0.15104696 0.14515145 0.14311852 0.15816223 0.15328319 0.14921732\n",
            " 0.15531612 0.15917869 0.15938199 0.16344786 0.16484077 0.16696706\n",
            " 0.16887569 0.17069528 0.17247598 0.17424107 0.17600285 0.17776801\n",
            " 0.1795404  0.18132189 0.18311355 0.18491594 0.18672964 0.18855536\n",
            " 0.1903941  0.19224688 0.19411525 0.19600053]\n",
            "18 day output [[0.19790469]]\n",
            "19 day input [0.20817239 0.20309006 0.18479366 0.17930474 0.1896727  0.17483228\n",
            " 0.17849156 0.17645863 0.18540354 0.18377719 0.19190892 0.18987599\n",
            " 0.19028258 0.19394186 0.20004066 0.19638138 0.19495832 0.20349665\n",
            " 0.19597479 0.21162838 0.22036999 0.20979874 0.21528766 0.21589754\n",
            " 0.21610083 0.22748526 0.19150234 0.1833706  0.17340923 0.16751372\n",
            " 0.1622281  0.17056312 0.17462899 0.17930474 0.18174426 0.16853019\n",
            " 0.16548079 0.1742224  0.1713763  0.17300264 0.17157959 0.17767839\n",
            " 0.18459036 0.18702988 0.18987599 0.19109575 0.18581012 0.17015654\n",
            " 0.16751372 0.16974995 0.16609067 0.15531612 0.15003049 0.15064037\n",
            " 0.14860744 0.14596463 0.15043708 0.14413499 0.12441553 0.12827811\n",
            " 0.11547062 0.12034966 0.13478349 0.13498679 0.12868469 0.13295385\n",
            " 0.12807481 0.12624517 0.13051433 0.13905265 0.14718439 0.15104696\n",
            " 0.14515145 0.14311852 0.15816223 0.15328319 0.14921732 0.15531612\n",
            " 0.15917869 0.15938199 0.16344786 0.16484077 0.16696706 0.16887569\n",
            " 0.17069528 0.17247598 0.17424107 0.17600285 0.17776801 0.1795404\n",
            " 0.18132189 0.18311355 0.18491594 0.18672964 0.18855536 0.1903941\n",
            " 0.19224688 0.19411525 0.19600053 0.19790469]\n",
            "19 day output [[0.19982935]]\n",
            "20 day input [0.20309006 0.18479366 0.17930474 0.1896727  0.17483228 0.17849156\n",
            " 0.17645863 0.18540354 0.18377719 0.19190892 0.18987599 0.19028258\n",
            " 0.19394186 0.20004066 0.19638138 0.19495832 0.20349665 0.19597479\n",
            " 0.21162838 0.22036999 0.20979874 0.21528766 0.21589754 0.21610083\n",
            " 0.22748526 0.19150234 0.1833706  0.17340923 0.16751372 0.1622281\n",
            " 0.17056312 0.17462899 0.17930474 0.18174426 0.16853019 0.16548079\n",
            " 0.1742224  0.1713763  0.17300264 0.17157959 0.17767839 0.18459036\n",
            " 0.18702988 0.18987599 0.19109575 0.18581012 0.17015654 0.16751372\n",
            " 0.16974995 0.16609067 0.15531612 0.15003049 0.15064037 0.14860744\n",
            " 0.14596463 0.15043708 0.14413499 0.12441553 0.12827811 0.11547062\n",
            " 0.12034966 0.13478349 0.13498679 0.12868469 0.13295385 0.12807481\n",
            " 0.12624517 0.13051433 0.13905265 0.14718439 0.15104696 0.14515145\n",
            " 0.14311852 0.15816223 0.15328319 0.14921732 0.15531612 0.15917869\n",
            " 0.15938199 0.16344786 0.16484077 0.16696706 0.16887569 0.17069528\n",
            " 0.17247598 0.17424107 0.17600285 0.17776801 0.1795404  0.18132189\n",
            " 0.18311355 0.18491594 0.18672964 0.18855536 0.1903941  0.19224688\n",
            " 0.19411525 0.19600053 0.19790469 0.19982935]\n",
            "20 day output [[0.20177643]]\n",
            "21 day input [0.18479366 0.17930474 0.1896727  0.17483228 0.17849156 0.17645863\n",
            " 0.18540354 0.18377719 0.19190892 0.18987599 0.19028258 0.19394186\n",
            " 0.20004066 0.19638138 0.19495832 0.20349665 0.19597479 0.21162838\n",
            " 0.22036999 0.20979874 0.21528766 0.21589754 0.21610083 0.22748526\n",
            " 0.19150234 0.1833706  0.17340923 0.16751372 0.1622281  0.17056312\n",
            " 0.17462899 0.17930474 0.18174426 0.16853019 0.16548079 0.1742224\n",
            " 0.1713763  0.17300264 0.17157959 0.17767839 0.18459036 0.18702988\n",
            " 0.18987599 0.19109575 0.18581012 0.17015654 0.16751372 0.16974995\n",
            " 0.16609067 0.15531612 0.15003049 0.15064037 0.14860744 0.14596463\n",
            " 0.15043708 0.14413499 0.12441553 0.12827811 0.11547062 0.12034966\n",
            " 0.13478349 0.13498679 0.12868469 0.13295385 0.12807481 0.12624517\n",
            " 0.13051433 0.13905265 0.14718439 0.15104696 0.14515145 0.14311852\n",
            " 0.15816223 0.15328319 0.14921732 0.15531612 0.15917869 0.15938199\n",
            " 0.16344786 0.16484077 0.16696706 0.16887569 0.17069528 0.17247598\n",
            " 0.17424107 0.17600285 0.17776801 0.1795404  0.18132189 0.18311355\n",
            " 0.18491594 0.18672964 0.18855536 0.1903941  0.19224688 0.19411525\n",
            " 0.19600053 0.19790469 0.19982935 0.20177643]\n",
            "21 day output [[0.20374799]]\n",
            "22 day input [0.17930474 0.1896727  0.17483228 0.17849156 0.17645863 0.18540354\n",
            " 0.18377719 0.19190892 0.18987599 0.19028258 0.19394186 0.20004066\n",
            " 0.19638138 0.19495832 0.20349665 0.19597479 0.21162838 0.22036999\n",
            " 0.20979874 0.21528766 0.21589754 0.21610083 0.22748526 0.19150234\n",
            " 0.1833706  0.17340923 0.16751372 0.1622281  0.17056312 0.17462899\n",
            " 0.17930474 0.18174426 0.16853019 0.16548079 0.1742224  0.1713763\n",
            " 0.17300264 0.17157959 0.17767839 0.18459036 0.18702988 0.18987599\n",
            " 0.19109575 0.18581012 0.17015654 0.16751372 0.16974995 0.16609067\n",
            " 0.15531612 0.15003049 0.15064037 0.14860744 0.14596463 0.15043708\n",
            " 0.14413499 0.12441553 0.12827811 0.11547062 0.12034966 0.13478349\n",
            " 0.13498679 0.12868469 0.13295385 0.12807481 0.12624517 0.13051433\n",
            " 0.13905265 0.14718439 0.15104696 0.14515145 0.14311852 0.15816223\n",
            " 0.15328319 0.14921732 0.15531612 0.15917869 0.15938199 0.16344786\n",
            " 0.16484077 0.16696706 0.16887569 0.17069528 0.17247598 0.17424107\n",
            " 0.17600285 0.17776801 0.1795404  0.18132189 0.18311355 0.18491594\n",
            " 0.18672964 0.18855536 0.1903941  0.19224688 0.19411525 0.19600053\n",
            " 0.19790469 0.19982935 0.20177643 0.20374799]\n",
            "22 day output [[0.20574616]]\n",
            "23 day input [0.1896727  0.17483228 0.17849156 0.17645863 0.18540354 0.18377719\n",
            " 0.19190892 0.18987599 0.19028258 0.19394186 0.20004066 0.19638138\n",
            " 0.19495832 0.20349665 0.19597479 0.21162838 0.22036999 0.20979874\n",
            " 0.21528766 0.21589754 0.21610083 0.22748526 0.19150234 0.1833706\n",
            " 0.17340923 0.16751372 0.1622281  0.17056312 0.17462899 0.17930474\n",
            " 0.18174426 0.16853019 0.16548079 0.1742224  0.1713763  0.17300264\n",
            " 0.17157959 0.17767839 0.18459036 0.18702988 0.18987599 0.19109575\n",
            " 0.18581012 0.17015654 0.16751372 0.16974995 0.16609067 0.15531612\n",
            " 0.15003049 0.15064037 0.14860744 0.14596463 0.15043708 0.14413499\n",
            " 0.12441553 0.12827811 0.11547062 0.12034966 0.13478349 0.13498679\n",
            " 0.12868469 0.13295385 0.12807481 0.12624517 0.13051433 0.13905265\n",
            " 0.14718439 0.15104696 0.14515145 0.14311852 0.15816223 0.15328319\n",
            " 0.14921732 0.15531612 0.15917869 0.15938199 0.16344786 0.16484077\n",
            " 0.16696706 0.16887569 0.17069528 0.17247598 0.17424107 0.17600285\n",
            " 0.17776801 0.1795404  0.18132189 0.18311355 0.18491594 0.18672964\n",
            " 0.18855536 0.1903941  0.19224688 0.19411525 0.19600053 0.19790469\n",
            " 0.19982935 0.20177643 0.20374799 0.20574616]\n",
            "23 day output [[0.20777312]]\n",
            "24 day input [0.17483228 0.17849156 0.17645863 0.18540354 0.18377719 0.19190892\n",
            " 0.18987599 0.19028258 0.19394186 0.20004066 0.19638138 0.19495832\n",
            " 0.20349665 0.19597479 0.21162838 0.22036999 0.20979874 0.21528766\n",
            " 0.21589754 0.21610083 0.22748526 0.19150234 0.1833706  0.17340923\n",
            " 0.16751372 0.1622281  0.17056312 0.17462899 0.17930474 0.18174426\n",
            " 0.16853019 0.16548079 0.1742224  0.1713763  0.17300264 0.17157959\n",
            " 0.17767839 0.18459036 0.18702988 0.18987599 0.19109575 0.18581012\n",
            " 0.17015654 0.16751372 0.16974995 0.16609067 0.15531612 0.15003049\n",
            " 0.15064037 0.14860744 0.14596463 0.15043708 0.14413499 0.12441553\n",
            " 0.12827811 0.11547062 0.12034966 0.13478349 0.13498679 0.12868469\n",
            " 0.13295385 0.12807481 0.12624517 0.13051433 0.13905265 0.14718439\n",
            " 0.15104696 0.14515145 0.14311852 0.15816223 0.15328319 0.14921732\n",
            " 0.15531612 0.15917869 0.15938199 0.16344786 0.16484077 0.16696706\n",
            " 0.16887569 0.17069528 0.17247598 0.17424107 0.17600285 0.17776801\n",
            " 0.1795404  0.18132189 0.18311355 0.18491594 0.18672964 0.18855536\n",
            " 0.1903941  0.19224688 0.19411525 0.19600053 0.19790469 0.19982935\n",
            " 0.20177643 0.20374799 0.20574616 0.20777312]\n",
            "24 day output [[0.20983122]]\n",
            "25 day input [0.17849156 0.17645863 0.18540354 0.18377719 0.19190892 0.18987599\n",
            " 0.19028258 0.19394186 0.20004066 0.19638138 0.19495832 0.20349665\n",
            " 0.19597479 0.21162838 0.22036999 0.20979874 0.21528766 0.21589754\n",
            " 0.21610083 0.22748526 0.19150234 0.1833706  0.17340923 0.16751372\n",
            " 0.1622281  0.17056312 0.17462899 0.17930474 0.18174426 0.16853019\n",
            " 0.16548079 0.1742224  0.1713763  0.17300264 0.17157959 0.17767839\n",
            " 0.18459036 0.18702988 0.18987599 0.19109575 0.18581012 0.17015654\n",
            " 0.16751372 0.16974995 0.16609067 0.15531612 0.15003049 0.15064037\n",
            " 0.14860744 0.14596463 0.15043708 0.14413499 0.12441553 0.12827811\n",
            " 0.11547062 0.12034966 0.13478349 0.13498679 0.12868469 0.13295385\n",
            " 0.12807481 0.12624517 0.13051433 0.13905265 0.14718439 0.15104696\n",
            " 0.14515145 0.14311852 0.15816223 0.15328319 0.14921732 0.15531612\n",
            " 0.15917869 0.15938199 0.16344786 0.16484077 0.16696706 0.16887569\n",
            " 0.17069528 0.17247598 0.17424107 0.17600285 0.17776801 0.1795404\n",
            " 0.18132189 0.18311355 0.18491594 0.18672964 0.18855536 0.1903941\n",
            " 0.19224688 0.19411525 0.19600053 0.19790469 0.19982935 0.20177643\n",
            " 0.20374799 0.20574616 0.20777312 0.20983122]\n",
            "25 day output [[0.21192291]]\n",
            "26 day input [0.17645863 0.18540354 0.18377719 0.19190892 0.18987599 0.19028258\n",
            " 0.19394186 0.20004066 0.19638138 0.19495832 0.20349665 0.19597479\n",
            " 0.21162838 0.22036999 0.20979874 0.21528766 0.21589754 0.21610083\n",
            " 0.22748526 0.19150234 0.1833706  0.17340923 0.16751372 0.1622281\n",
            " 0.17056312 0.17462899 0.17930474 0.18174426 0.16853019 0.16548079\n",
            " 0.1742224  0.1713763  0.17300264 0.17157959 0.17767839 0.18459036\n",
            " 0.18702988 0.18987599 0.19109575 0.18581012 0.17015654 0.16751372\n",
            " 0.16974995 0.16609067 0.15531612 0.15003049 0.15064037 0.14860744\n",
            " 0.14596463 0.15043708 0.14413499 0.12441553 0.12827811 0.11547062\n",
            " 0.12034966 0.13478349 0.13498679 0.12868469 0.13295385 0.12807481\n",
            " 0.12624517 0.13051433 0.13905265 0.14718439 0.15104696 0.14515145\n",
            " 0.14311852 0.15816223 0.15328319 0.14921732 0.15531612 0.15917869\n",
            " 0.15938199 0.16344786 0.16484077 0.16696706 0.16887569 0.17069528\n",
            " 0.17247598 0.17424107 0.17600285 0.17776801 0.1795404  0.18132189\n",
            " 0.18311355 0.18491594 0.18672964 0.18855536 0.1903941  0.19224688\n",
            " 0.19411525 0.19600053 0.19790469 0.19982935 0.20177643 0.20374799\n",
            " 0.20574616 0.20777312 0.20983122 0.21192291]\n",
            "26 day output [[0.21405075]]\n",
            "27 day input [0.18540354 0.18377719 0.19190892 0.18987599 0.19028258 0.19394186\n",
            " 0.20004066 0.19638138 0.19495832 0.20349665 0.19597479 0.21162838\n",
            " 0.22036999 0.20979874 0.21528766 0.21589754 0.21610083 0.22748526\n",
            " 0.19150234 0.1833706  0.17340923 0.16751372 0.1622281  0.17056312\n",
            " 0.17462899 0.17930474 0.18174426 0.16853019 0.16548079 0.1742224\n",
            " 0.1713763  0.17300264 0.17157959 0.17767839 0.18459036 0.18702988\n",
            " 0.18987599 0.19109575 0.18581012 0.17015654 0.16751372 0.16974995\n",
            " 0.16609067 0.15531612 0.15003049 0.15064037 0.14860744 0.14596463\n",
            " 0.15043708 0.14413499 0.12441553 0.12827811 0.11547062 0.12034966\n",
            " 0.13478349 0.13498679 0.12868469 0.13295385 0.12807481 0.12624517\n",
            " 0.13051433 0.13905265 0.14718439 0.15104696 0.14515145 0.14311852\n",
            " 0.15816223 0.15328319 0.14921732 0.15531612 0.15917869 0.15938199\n",
            " 0.16344786 0.16484077 0.16696706 0.16887569 0.17069528 0.17247598\n",
            " 0.17424107 0.17600285 0.17776801 0.1795404  0.18132189 0.18311355\n",
            " 0.18491594 0.18672964 0.18855536 0.1903941  0.19224688 0.19411525\n",
            " 0.19600053 0.19790469 0.19982935 0.20177643 0.20374799 0.20574616\n",
            " 0.20777312 0.20983122 0.21192291 0.21405075]\n",
            "27 day output [[0.21621747]]\n",
            "[[0.16484077274799347], [0.16696706414222717], [0.16887569427490234], [0.17069527506828308], [0.17247597873210907], [0.1742410659790039], [0.1760028451681137], [0.17776800692081451], [0.17954039573669434], [0.1813218891620636], [0.18311354517936707], [0.1849159449338913], [0.18672963976860046], [0.18855535984039307], [0.1903941035270691], [0.19224688410758972], [0.19411525130271912], [0.19600053131580353], [0.19790469110012054], [0.1998293548822403], [0.2017764300107956], [0.20374798774719238], [0.20574615895748138], [0.2077731192111969], [0.20983122289180756], [0.21192291378974915], [0.214050754904747], [0.21621747314929962]]\n"
          ]
        }
      ]
    },
    {
      "cell_type": "code",
      "source": [
        "day_new = np.arange(1,101)\n",
        "day_pred = np.arange(101,129)"
      ],
      "metadata": {
        "id": "kqF0-99NlSRb"
      },
      "execution_count": 27,
      "outputs": []
    },
    {
      "cell_type": "code",
      "source": [
        "plt.plot(day_new, scaler.inverse_transform(dataframe_high[1935:]))\n",
        "plt.plot(day_pred, scaler.inverse_transform(lst_output))"
      ],
      "metadata": {
        "colab": {
          "base_uri": "https://localhost:8080/",
          "height": 286
        },
        "id": "Bd8SCiNjglRe",
        "outputId": "e18bd4cc-e4ac-4d24-964a-c6cec3019e0c"
      },
      "execution_count": 28,
      "outputs": [
        {
          "output_type": "execute_result",
          "data": {
            "text/plain": [
              "[<matplotlib.lines.Line2D at 0x7f2dd2cfbbb0>]"
            ]
          },
          "metadata": {},
          "execution_count": 28
        },
        {
          "output_type": "display_data",
          "data": {
            "text/plain": [
              "<Figure size 432x288 with 1 Axes>"
            ],
            "image/png": "[encoded data removed]"
          },
          "metadata": {
            "needs_background": "light"
          }
        }
      ]
    },
    {
      "cell_type": "code",
      "source": [
        "data_new = dataframe_high.tolist()\n",
        "data_new.extend(lst_output)\n",
        "plt.plot(data_new[2000:])"
      ],
      "metadata": {
        "colab": {
          "base_uri": "https://localhost:8080/",
          "height": 285
        },
        "id": "_pSo7xmlhooh",
        "outputId": "61ec3899-bbe8-4543-b1d4-3cf158c273bb"
      },
      "execution_count": 29,
      "outputs": [
        {
          "output_type": "execute_result",
          "data": {
            "text/plain": [
              "[<matplotlib.lines.Line2D at 0x7f2dd2d4ba30>]"
            ]
          },
          "metadata": {},
          "execution_count": 29
        },
        {
          "output_type": "display_data",
          "data": {
            "text/plain": [
              "<Figure size 432x288 with 1 Axes>"
            ],
            "image/png": "[encoded data removed]"
          },
          "metadata": {
            "needs_background": "light"
          }
        }
      ]
    },
    {
      "cell_type": "code",
      "source": [
        "data_new =scaler.inverse_transform(data_new).tolist()\n",
        "plt.plot(data_new)"
      ],
      "metadata": {
        "colab": {
          "base_uri": "https://localhost:8080/",
          "height": 283
        },
        "id": "6MIs1Y0Xhovt",
        "outputId": "edd0ee38-9e8c-4642-92f6-49263bff241d"
      },
      "execution_count": 30,
      "outputs": [
        {
          "output_type": "execute_result",
          "data": {
            "text/plain": [
              "[<matplotlib.lines.Line2D at 0x7f2dd2ba2370>]"
            ]
          },
          "metadata": {},
          "execution_count": 30
        },
        {
          "output_type": "display_data",
          "data": {
            "text/plain": [
              "<Figure size 432x288 with 1 Axes>"
            ],
            "image/png": "[encoded data removed]"
          },
          "metadata": {
            "needs_background": "light"
          }
        }
      ]
    }
  ]
}